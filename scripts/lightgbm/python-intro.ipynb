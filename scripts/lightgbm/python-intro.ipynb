{
 "cells": [
  {
   "cell_type": "markdown",
   "metadata": {},
   "source": [
    "- Reference\n",
    "  - https://lightgbm.readthedocs.io/en/latest/Python-Intro.html"
   ]
  },
  {
   "cell_type": "code",
   "execution_count": 2,
   "metadata": {},
   "outputs": [],
   "source": [
    "import numpy as np"
   ]
  },
  {
   "cell_type": "code",
   "execution_count": 6,
   "metadata": {},
   "outputs": [],
   "source": [
    "import lightgbm as lgb"
   ]
  },
  {
   "cell_type": "code",
   "execution_count": 7,
   "metadata": {},
   "outputs": [],
   "source": [
    "#train_data = lgb.Dataset('train.svm.bin')"
   ]
  },
  {
   "cell_type": "code",
   "execution_count": 8,
   "metadata": {},
   "outputs": [],
   "source": [
    "data = np.random.rand(500, 10)\n",
    "label = np.random.randint(2, size=500)\n",
    "train_data = lgb.Dataset(data, label=label)"
   ]
  },
  {
   "cell_type": "code",
   "execution_count": 9,
   "metadata": {},
   "outputs": [
    {
     "data": {
      "text/plain": [
       "(500, 10)"
      ]
     },
     "execution_count": 9,
     "metadata": {},
     "output_type": "execute_result"
    }
   ],
   "source": [
    "data.shape"
   ]
  },
  {
   "cell_type": "code",
   "execution_count": 10,
   "metadata": {},
   "outputs": [
    {
     "data": {
      "text/plain": [
       "array([[0.07735583, 0.82303398, 0.62206188, ..., 0.99074797, 0.44208812,\n",
       "        0.98991005],\n",
       "       [0.65783164, 0.58778008, 0.63011512, ..., 0.30767858, 0.08061087,\n",
       "        0.70839148],\n",
       "       [0.06354966, 0.05721103, 0.49279591, ..., 0.62933701, 0.01197158,\n",
       "        0.96877477],\n",
       "       ...,\n",
       "       [0.55469197, 0.41155858, 0.05964176, ..., 0.18497415, 0.91921303,\n",
       "        0.51649815],\n",
       "       [0.0589261 , 0.6649454 , 0.98338213, ..., 0.1845339 , 0.2035213 ,\n",
       "        0.70972796],\n",
       "       [0.07666999, 0.71691207, 0.30167829, ..., 0.68353651, 0.698     ,\n",
       "        0.82549821]])"
      ]
     },
     "execution_count": 10,
     "metadata": {},
     "output_type": "execute_result"
    }
   ],
   "source": [
    "data"
   ]
  },
  {
   "cell_type": "code",
   "execution_count": 11,
   "metadata": {},
   "outputs": [
    {
     "data": {
      "text/plain": [
       "(500,)"
      ]
     },
     "execution_count": 11,
     "metadata": {},
     "output_type": "execute_result"
    }
   ],
   "source": [
    "label.shape"
   ]
  },
  {
   "cell_type": "code",
   "execution_count": 12,
   "metadata": {},
   "outputs": [
    {
     "data": {
      "text/plain": [
       "array([1, 0, 1, 1, 0, 0, 0, 0, 0, 1, 0, 1, 1, 0, 0, 1, 1, 1, 0, 1, 0, 1,\n",
       "       1, 0, 1, 1, 0, 0, 0, 1, 0, 0, 1, 0, 0, 0, 1, 1, 1, 0, 0, 1, 1, 1,\n",
       "       1, 1, 0, 0, 0, 0, 0, 1, 0, 0, 0, 0, 1, 1, 1, 1, 1, 1, 1, 0, 1, 0,\n",
       "       1, 1, 0, 0, 0, 1, 0, 1, 0, 1, 1, 1, 0, 1, 1, 1, 0, 1, 1, 0, 0, 1,\n",
       "       1, 1, 0, 1, 1, 1, 1, 0, 1, 1, 1, 0, 0, 1, 0, 1, 1, 1, 1, 1, 1, 0,\n",
       "       0, 1, 0, 0, 1, 1, 0, 0, 0, 0, 0, 0, 1, 0, 1, 0, 0, 0, 1, 0, 0, 1,\n",
       "       0, 1, 1, 1, 0, 1, 0, 0, 1, 0, 1, 0, 0, 1, 1, 0, 1, 0, 0, 1, 1, 1,\n",
       "       0, 1, 0, 1, 0, 0, 1, 1, 0, 0, 0, 0, 1, 0, 1, 1, 0, 1, 0, 1, 0, 0,\n",
       "       0, 1, 0, 1, 0, 0, 0, 0, 1, 1, 1, 1, 0, 0, 0, 1, 0, 0, 0, 0, 0, 1,\n",
       "       0, 0, 1, 0, 0, 0, 0, 0, 1, 0, 1, 0, 0, 1, 0, 0, 0, 0, 1, 0, 1, 0,\n",
       "       0, 0, 0, 0, 0, 1, 1, 0, 0, 1, 0, 1, 1, 0, 0, 1, 1, 1, 1, 1, 1, 0,\n",
       "       1, 1, 0, 0, 0, 1, 1, 0, 1, 1, 1, 0, 1, 1, 1, 0, 1, 0, 1, 1, 1, 1,\n",
       "       0, 1, 1, 1, 0, 0, 1, 1, 0, 1, 0, 1, 1, 1, 1, 1, 0, 0, 1, 0, 1, 1,\n",
       "       0, 1, 0, 0, 1, 1, 1, 1, 1, 0, 1, 1, 1, 1, 1, 0, 1, 1, 0, 0, 0, 0,\n",
       "       1, 0, 0, 1, 0, 1, 1, 0, 0, 0, 0, 0, 0, 0, 1, 0, 1, 1, 1, 0, 0, 1,\n",
       "       0, 0, 0, 1, 1, 0, 0, 0, 0, 1, 1, 0, 0, 1, 0, 1, 0, 1, 0, 1, 0, 0,\n",
       "       0, 1, 1, 0, 1, 0, 0, 0, 1, 0, 1, 0, 0, 0, 1, 0, 1, 0, 1, 0, 0, 0,\n",
       "       0, 0, 1, 1, 0, 1, 0, 0, 1, 0, 1, 1, 0, 0, 1, 1, 1, 1, 0, 1, 1, 1,\n",
       "       0, 1, 0, 0, 0, 1, 1, 0, 0, 0, 0, 0, 0, 1, 0, 1, 0, 1, 1, 0, 0, 0,\n",
       "       1, 1, 1, 1, 0, 1, 0, 0, 1, 1, 0, 1, 1, 1, 1, 1, 1, 1, 0, 1, 0, 1,\n",
       "       1, 1, 0, 0, 1, 0, 0, 1, 1, 1, 1, 0, 0, 0, 0, 0, 0, 1, 0, 0, 0, 1,\n",
       "       0, 1, 1, 1, 0, 0, 1, 1, 1, 0, 0, 1, 1, 1, 0, 1, 1, 0, 0, 1, 0, 1,\n",
       "       1, 0, 1, 1, 0, 1, 0, 1, 1, 0, 1, 1, 0, 0, 0, 0])"
      ]
     },
     "execution_count": 12,
     "metadata": {},
     "output_type": "execute_result"
    }
   ],
   "source": [
    "label"
   ]
  },
  {
   "cell_type": "code",
   "execution_count": 13,
   "metadata": {},
   "outputs": [
    {
     "data": {
      "text/plain": [
       "<lightgbm.basic.Dataset at 0x12962dcc0>"
      ]
     },
     "execution_count": 13,
     "metadata": {},
     "output_type": "execute_result"
    }
   ],
   "source": [
    "train_data"
   ]
  },
  {
   "cell_type": "code",
   "execution_count": 17,
   "metadata": {},
   "outputs": [
    {
     "data": {
      "text/plain": [
       "<bound method Dataset.get_data of <lightgbm.basic.Dataset object at 0x12962dcc0>>"
      ]
     },
     "execution_count": 17,
     "metadata": {},
     "output_type": "execute_result"
    }
   ],
   "source": [
    "#train_data.label\n",
    "#train_data.feature_name\n",
    "train_data.get_data"
   ]
  },
  {
   "cell_type": "code",
   "execution_count": 19,
   "metadata": {},
   "outputs": [],
   "source": [
    "# import scipy\n",
    "# csr = scipy.sparse.csr_matrix((dat, (row, col)))\n",
    "# train_data = lgb.Dataset(csr)"
   ]
  },
  {
   "cell_type": "code",
   "execution_count": 21,
   "metadata": {},
   "outputs": [
    {
     "data": {
      "text/plain": [
       "<lightgbm.basic.Dataset at 0x12962dcc0>"
      ]
     },
     "execution_count": 21,
     "metadata": {},
     "output_type": "execute_result"
    }
   ],
   "source": [
    "#train_data = lgb.Dataset('train.svm.txt')\n",
    "train_data.save_binary('data/train.bin')"
   ]
  },
  {
   "cell_type": "code",
   "execution_count": 29,
   "metadata": {},
   "outputs": [],
   "source": [
    "#validation_data = train_data.create_valid('validation.svm')\n",
    "#validation_data = lgb.Dataset('data/validation.svm', reference=train_data)\n",
    "data2 = np.random.rand(100, 10)\n",
    "label2 = np.random.randint(2, size=100)\n",
    "validation_data = lgb.Dataset(data2, label=label2, reference=train_data)"
   ]
  },
  {
   "cell_type": "code",
   "execution_count": 30,
   "metadata": {},
   "outputs": [
    {
     "data": {
      "text/plain": [
       "<lightgbm.basic.Dataset at 0x12a019ef0>"
      ]
     },
     "execution_count": 30,
     "metadata": {},
     "output_type": "execute_result"
    }
   ],
   "source": [
    "validation_data"
   ]
  },
  {
   "cell_type": "code",
   "execution_count": 31,
   "metadata": {},
   "outputs": [],
   "source": [
    "#train_data = lgb.Dataset(data, label=label, feature_name=['c1', 'c2', 'c3'], categorical_feature=['c3'])"
   ]
  },
  {
   "cell_type": "code",
   "execution_count": 32,
   "metadata": {},
   "outputs": [
    {
     "data": {
      "text/plain": [
       "<lightgbm.basic.Dataset at 0x12962dcc0>"
      ]
     },
     "execution_count": 32,
     "metadata": {},
     "output_type": "execute_result"
    }
   ],
   "source": [
    "# w = np.random.rand(500, )\n",
    "# train_data = lgb.Dataset(data, label=label, weight=w)\n",
    "\n",
    "#train_data = lgb.Dataset(data, label=label)\n",
    "w = np.random.rand(500, )\n",
    "train_data.set_weight(w)"
   ]
  },
  {
   "cell_type": "code",
   "execution_count": 33,
   "metadata": {},
   "outputs": [],
   "source": [
    "param = {'num_leaves': 31, 'objective': 'binary'}\n",
    "#param['metric'] = 'auc'\n",
    "param['metric'] = ['auc', 'binary_logloss']"
   ]
  },
  {
   "cell_type": "code",
   "execution_count": 34,
   "metadata": {},
   "outputs": [
    {
     "name": "stdout",
     "output_type": "stream",
     "text": [
      "[1]\tvalid_0's auc: 0.516058\tvalid_0's binary_logloss: 0.69646\n",
      "[2]\tvalid_0's auc: 0.501807\tvalid_0's binary_logloss: 0.698757\n",
      "[3]\tvalid_0's auc: 0.495383\tvalid_0's binary_logloss: 0.701811\n",
      "[4]\tvalid_0's auc: 0.479326\tvalid_0's binary_logloss: 0.710317\n",
      "[5]\tvalid_0's auc: 0.492573\tvalid_0's binary_logloss: 0.710346\n",
      "[6]\tvalid_0's auc: 0.483541\tvalid_0's binary_logloss: 0.713193\n",
      "[7]\tvalid_0's auc: 0.478723\tvalid_0's binary_logloss: 0.720273\n",
      "[8]\tvalid_0's auc: 0.467483\tvalid_0's binary_logloss: 0.724377\n",
      "[9]\tvalid_0's auc: 0.48876\tvalid_0's binary_logloss: 0.722143\n",
      "[10]\tvalid_0's auc: 0.493577\tvalid_0's binary_logloss: 0.722172\n"
     ]
    }
   ],
   "source": [
    "num_round = 10\n",
    "\n",
    "bst = lgb.train(param, train_data, num_round, valid_sets=[validation_data])"
   ]
  },
  {
   "cell_type": "code",
   "execution_count": 35,
   "metadata": {},
   "outputs": [
    {
     "data": {
      "text/plain": [
       "<lightgbm.basic.Booster at 0x12966be10>"
      ]
     },
     "execution_count": 35,
     "metadata": {},
     "output_type": "execute_result"
    }
   ],
   "source": [
    "bst.save_model('data/model.txt')"
   ]
  },
  {
   "cell_type": "code",
   "execution_count": 36,
   "metadata": {},
   "outputs": [],
   "source": [
    "json_model = bst.dump_model()"
   ]
  },
  {
   "cell_type": "code",
   "execution_count": 38,
   "metadata": {},
   "outputs": [],
   "source": [
    "#json_model"
   ]
  },
  {
   "cell_type": "code",
   "execution_count": 39,
   "metadata": {},
   "outputs": [],
   "source": [
    "bst = lgb.Booster(model_file='data/model.txt')"
   ]
  },
  {
   "cell_type": "code",
   "execution_count": 40,
   "metadata": {},
   "outputs": [
    {
     "data": {
      "text/plain": [
       "{'auc-mean': [0.5193471966026215,\n",
       "  0.4943458355683453,\n",
       "  0.49452384093133556,\n",
       "  0.4830471275640894,\n",
       "  0.47676676775331994,\n",
       "  0.47532574157432794,\n",
       "  0.47215372020913426,\n",
       "  0.4749107153227114,\n",
       "  0.4749193675814909,\n",
       "  0.4625497720288477],\n",
       " 'auc-stdv': [0.06626191354033013,\n",
       "  0.07731035635852117,\n",
       "  0.0814713307563419,\n",
       "  0.09035275690935578,\n",
       "  0.08285271428837633,\n",
       "  0.08041551953319719,\n",
       "  0.07914184716804541,\n",
       "  0.0926299003030456,\n",
       "  0.09142558422606097,\n",
       "  0.08873130872259317],\n",
       " 'binary_logloss-mean': [0.69244405776717,\n",
       "  0.6956729651419681,\n",
       "  0.6991192018947677,\n",
       "  0.7035156446429781,\n",
       "  0.7092620604304869,\n",
       "  0.7141978301004526,\n",
       "  0.7191848924619569,\n",
       "  0.721632836512653,\n",
       "  0.7264821125967785,\n",
       "  0.7353982722965271],\n",
       " 'binary_logloss-stdv': [0.006387759519872379,\n",
       "  0.010596523177357849,\n",
       "  0.01637831748481839,\n",
       "  0.022612658861444798,\n",
       "  0.02447325566429513,\n",
       "  0.027521883475263697,\n",
       "  0.031475200841147584,\n",
       "  0.038510216710653807,\n",
       "  0.03973918075229783,\n",
       "  0.044116849407914945]}"
      ]
     },
     "execution_count": 40,
     "metadata": {},
     "output_type": "execute_result"
    }
   ],
   "source": [
    "lgb.cv(param, train_data, num_round, nfold=5)"
   ]
  },
  {
   "cell_type": "code",
   "execution_count": 42,
   "metadata": {},
   "outputs": [
    {
     "name": "stdout",
     "output_type": "stream",
     "text": [
      "[1]\tvalid_0's auc: 0.516058\tvalid_0's binary_logloss: 0.69646\n",
      "Training until validation scores don't improve for 5 rounds\n",
      "[2]\tvalid_0's auc: 0.501807\tvalid_0's binary_logloss: 0.698757\n",
      "[3]\tvalid_0's auc: 0.495383\tvalid_0's binary_logloss: 0.701811\n",
      "[4]\tvalid_0's auc: 0.479326\tvalid_0's binary_logloss: 0.710317\n",
      "[5]\tvalid_0's auc: 0.492573\tvalid_0's binary_logloss: 0.710346\n",
      "[6]\tvalid_0's auc: 0.483541\tvalid_0's binary_logloss: 0.713193\n",
      "Early stopping, best iteration is:\n",
      "[1]\tvalid_0's auc: 0.516058\tvalid_0's binary_logloss: 0.69646\n"
     ]
    },
    {
     "data": {
      "text/plain": [
       "<lightgbm.basic.Booster at 0x1296a1b70>"
      ]
     },
     "execution_count": 42,
     "metadata": {},
     "output_type": "execute_result"
    }
   ],
   "source": [
    "#bst = lgb.train(param, train_data, num_round, valid_sets=valid_sets, early_stopping_rounds=5)\n",
    "bst = lgb.train(param, train_data, num_round, valid_sets=[validation_data], early_stopping_rounds=5)\n",
    "bst.save_model('data/model.txt', num_iteration=bst.best_iteration)"
   ]
  },
  {
   "cell_type": "code",
   "execution_count": 43,
   "metadata": {},
   "outputs": [],
   "source": [
    "data = np.random.rand(7, 10)\n",
    "ypred = bst.predict(data)"
   ]
  },
  {
   "cell_type": "code",
   "execution_count": 44,
   "metadata": {},
   "outputs": [
    {
     "data": {
      "text/plain": [
       "array([0.4926498 , 0.47996423, 0.51629946, 0.50214743, 0.54187133,\n",
       "       0.48095678, 0.52213838])"
      ]
     },
     "execution_count": 44,
     "metadata": {},
     "output_type": "execute_result"
    }
   ],
   "source": [
    "ypred"
   ]
  },
  {
   "cell_type": "code",
   "execution_count": 45,
   "metadata": {},
   "outputs": [
    {
     "data": {
      "text/plain": [
       "array([0.4926498 , 0.47996423, 0.51629946, 0.50214743, 0.54187133,\n",
       "       0.48095678, 0.52213838])"
      ]
     },
     "execution_count": 45,
     "metadata": {},
     "output_type": "execute_result"
    }
   ],
   "source": [
    "ypred = bst.predict(data, num_iteration=bst.best_iteration)\n",
    "ypred"
   ]
  },
  {
   "cell_type": "code",
   "execution_count": null,
   "metadata": {},
   "outputs": [],
   "source": []
  }
 ],
 "metadata": {
  "kernelspec": {
   "display_name": "Python 3",
   "language": "python",
   "name": "python3"
  },
  "language_info": {
   "codemirror_mode": {
    "name": "ipython",
    "version": 3
   },
   "file_extension": ".py",
   "mimetype": "text/x-python",
   "name": "python",
   "nbconvert_exporter": "python",
   "pygments_lexer": "ipython3",
   "version": "3.7.3"
  }
 },
 "nbformat": 4,
 "nbformat_minor": 4
}
