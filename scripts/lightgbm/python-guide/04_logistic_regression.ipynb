{
 "cells": [
  {
   "cell_type": "markdown",
   "metadata": {},
   "source": [
    "- Reference\n",
    "  - https://github.com/microsoft/LightGBM/blob/master/examples/python-guide/logistic_regression.py"
   ]
  },
  {
   "cell_type": "code",
   "execution_count": 1,
   "metadata": {},
   "outputs": [],
   "source": [
    "import time\n",
    "\n",
    "import lightgbm as lgb\n",
    "import numpy as np\n",
    "import pandas as pd\n",
    "from scipy.special import expit"
   ]
  },
  {
   "cell_type": "code",
   "execution_count": 2,
   "metadata": {},
   "outputs": [],
   "source": [
    "#################\n",
    "# Simulate some binary data with a single categorical and\n",
    "#   single continuous predictor\n",
    "np.random.seed(0)\n",
    "\n",
    "N = 1000\n",
    "\n",
    "X = pd.DataFrame({\n",
    "    'continuous': range(N),\n",
    "    'categorical': np.repeat([0, 1, 2, 3, 4], N / 5)\n",
    "})\n",
    "\n",
    "CATEGORICAL_EFFECTS = [-1, -1, -2, -2, 2]\n",
    "\n",
    "LINEAR_TERM = np.array([\n",
    "    -0.5 + 0.01 * X['continuous'][k]\n",
    "    + CATEGORICAL_EFFECTS[X['categorical'][k]] for k in range(X.shape[0])\n",
    "]) + np.random.normal(0, 1, X.shape[0])\n",
    "\n",
    "TRUE_PROB = expit(LINEAR_TERM)\n",
    "\n",
    "Y = np.random.binomial(1, TRUE_PROB, size=N)\n",
    "\n",
    "DATA = {\n",
    "    'X': X,\n",
    "    'probability_labels': TRUE_PROB,\n",
    "    'binary_labels': Y,\n",
    "    'lgb_with_binary_labels': lgb.Dataset(X, Y),\n",
    "    'lgb_with_probability_labels': lgb.Dataset(X, TRUE_PROB),\n",
    "}"
   ]
  },
  {
   "cell_type": "code",
   "execution_count": 3,
   "metadata": {},
   "outputs": [],
   "source": [
    "#################\n",
    "# Set up a couple of utilities for our experiments\n",
    "def log_loss(preds, labels):\n",
    "    \"\"\"Logarithmic loss with non-necessarily-binary labels.\"\"\"\n",
    "    log_likelihood = np.sum(labels * np.log(preds)) / len(preds)\n",
    "    return -log_likelihood\n",
    "\n",
    "\n",
    "def experiment(objective, label_type, data):\n",
    "    \"\"\"Measure performance of an objective.\n",
    "    Parameters\n",
    "    ----------\n",
    "    objective : string 'binary' or 'xentropy'\n",
    "        Objective function.\n",
    "    label_type : string 'binary' or 'probability'\n",
    "        Type of the label.\n",
    "    data : dict\n",
    "        Data for training.\n",
    "    Returns\n",
    "    -------\n",
    "    result : dict\n",
    "        Experiment summary stats.\n",
    "    \"\"\"\n",
    "    np.random.seed(0)\n",
    "    nrounds = 5\n",
    "    lgb_data = data['lgb_with_' + label_type + '_labels']\n",
    "    params = {\n",
    "        'objective': objective,\n",
    "        'feature_fraction': 1,\n",
    "        'bagging_fraction': 1,\n",
    "        'verbose': -1\n",
    "    }\n",
    "    time_zero = time.time()\n",
    "    gbm = lgb.train(params, lgb_data, num_boost_round=nrounds)\n",
    "    y_fitted = gbm.predict(data['X'])\n",
    "    y_true = data[label_type + '_labels']\n",
    "    duration = time.time() - time_zero\n",
    "    return {\n",
    "        'time': duration,\n",
    "        'correlation': np.corrcoef(y_fitted, y_true)[0, 1],\n",
    "        'logloss': log_loss(y_fitted, y_true)\n",
    "    }"
   ]
  },
  {
   "cell_type": "code",
   "execution_count": 4,
   "metadata": {},
   "outputs": [
    {
     "name": "stdout",
     "output_type": "stream",
     "text": [
      "Performance of `binary` objective with binary labels:\n",
      "{'time': 0.037316083908081055, 'correlation': 0.6012584922759894, 'logloss': 0.15545640415178236}\n",
      "Performance of `xentropy` objective with binary labels:\n",
      "{'time': 0.02983713150024414, 'correlation': 0.6012584922759894, 'logloss': 0.15545640415178236}\n",
      "Performance of `xentropy` objective with probability labels:\n",
      "{'time': 0.016899824142456055, 'correlation': 0.884189150816587, 'logloss': 0.1551448517607808}\n",
      "Best `binary` time: 0.003938913345336914\n",
      "Best `xentropy` time: 0.003904104232788086\n"
     ]
    }
   ],
   "source": [
    "#################\n",
    "# Observe the behavior of `binary` and `xentropy` objectives\n",
    "print('Performance of `binary` objective with binary labels:')\n",
    "print(experiment('binary', label_type='binary', data=DATA))\n",
    "\n",
    "print('Performance of `xentropy` objective with binary labels:')\n",
    "print(experiment('xentropy', label_type='binary', data=DATA))\n",
    "\n",
    "print('Performance of `xentropy` objective with probability labels:')\n",
    "print(experiment('xentropy', label_type='probability', data=DATA))\n",
    "\n",
    "# Trying this throws an error on non-binary values of y:\n",
    "#   experiment('binary', label_type='probability', DATA)\n",
    "\n",
    "# The speed of `binary` is not drastically different than\n",
    "#   `xentropy`. `xentropy` runs faster than `binary` in many cases, although\n",
    "#   there are reasons to suspect that `binary` should run faster when the\n",
    "#   label is an integer instead of a float\n",
    "\n",
    "K = 10\n",
    "A = [experiment('binary', label_type='binary', data=DATA)['time']\n",
    "     for k in range(K)]\n",
    "B = [experiment('xentropy', label_type='binary', data=DATA)['time']\n",
    "     for k in range(K)]\n",
    "\n",
    "print('Best `binary` time: ' + str(min(A)))\n",
    "print('Best `xentropy` time: ' + str(min(B)))"
   ]
  },
  {
   "cell_type": "code",
   "execution_count": null,
   "metadata": {},
   "outputs": [],
   "source": []
  }
 ],
 "metadata": {
  "kernelspec": {
   "display_name": "Python 3",
   "language": "python",
   "name": "python3"
  },
  "language_info": {
   "codemirror_mode": {
    "name": "ipython",
    "version": 3
   },
   "file_extension": ".py",
   "mimetype": "text/x-python",
   "name": "python",
   "nbconvert_exporter": "python",
   "pygments_lexer": "ipython3",
   "version": "3.7.3"
  }
 },
 "nbformat": 4,
 "nbformat_minor": 4
}
