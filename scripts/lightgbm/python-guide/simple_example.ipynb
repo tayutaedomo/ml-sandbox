{
 "cells": [
  {
   "cell_type": "markdown",
   "metadata": {},
   "source": [
    "- Reference\n",
    "  - https://github.com/microsoft/LightGBM/blob/master/examples/python-guide/simple_example.py\n",
    "- Data\n",
    "  - https://github.com/microsoft/LightGBM/tree/master/examples/regression"
   ]
  },
  {
   "cell_type": "code",
   "execution_count": 1,
   "metadata": {},
   "outputs": [],
   "source": [
    "import lightgbm as lgb\n",
    "import pandas as pd\n",
    "from sklearn.metrics import mean_squared_error"
   ]
  },
  {
   "cell_type": "code",
   "execution_count": 2,
   "metadata": {},
   "outputs": [
    {
     "name": "stdout",
     "output_type": "stream",
     "text": [
      "Loading data...\n"
     ]
    }
   ],
   "source": [
    "print('Loading data...')\n",
    "\n",
    "df_train = pd.read_csv('data/regression.train', header=None, sep='\\t')\n",
    "df_test = pd.read_csv('data/regression.test', header=None, sep='\\t')"
   ]
  },
  {
   "cell_type": "code",
   "execution_count": 3,
   "metadata": {},
   "outputs": [
    {
     "data": {
      "text/plain": [
       "(7000, 29)"
      ]
     },
     "execution_count": 3,
     "metadata": {},
     "output_type": "execute_result"
    }
   ],
   "source": [
    "df_train.shape"
   ]
  },
  {
   "cell_type": "code",
   "execution_count": 9,
   "metadata": {},
   "outputs": [
    {
     "data": {
      "text/html": [
       "<div>\n",
       "<style scoped>\n",
       "    .dataframe tbody tr th:only-of-type {\n",
       "        vertical-align: middle;\n",
       "    }\n",
       "\n",
       "    .dataframe tbody tr th {\n",
       "        vertical-align: top;\n",
       "    }\n",
       "\n",
       "    .dataframe thead th {\n",
       "        text-align: right;\n",
       "    }\n",
       "</style>\n",
       "<table border=\"1\" class=\"dataframe\">\n",
       "  <thead>\n",
       "    <tr style=\"text-align: right;\">\n",
       "      <th></th>\n",
       "      <th>0</th>\n",
       "      <th>1</th>\n",
       "      <th>2</th>\n",
       "      <th>3</th>\n",
       "      <th>4</th>\n",
       "      <th>5</th>\n",
       "      <th>6</th>\n",
       "      <th>7</th>\n",
       "      <th>8</th>\n",
       "      <th>9</th>\n",
       "      <th>...</th>\n",
       "      <th>19</th>\n",
       "      <th>20</th>\n",
       "      <th>21</th>\n",
       "      <th>22</th>\n",
       "      <th>23</th>\n",
       "      <th>24</th>\n",
       "      <th>25</th>\n",
       "      <th>26</th>\n",
       "      <th>27</th>\n",
       "      <th>28</th>\n",
       "    </tr>\n",
       "  </thead>\n",
       "  <tbody>\n",
       "    <tr>\n",
       "      <th>0</th>\n",
       "      <td>1</td>\n",
       "      <td>0.869</td>\n",
       "      <td>-0.635</td>\n",
       "      <td>0.226</td>\n",
       "      <td>0.327</td>\n",
       "      <td>-0.690</td>\n",
       "      <td>0.754</td>\n",
       "      <td>-0.249</td>\n",
       "      <td>-1.092</td>\n",
       "      <td>0.000</td>\n",
       "      <td>...</td>\n",
       "      <td>-0.010</td>\n",
       "      <td>-0.046</td>\n",
       "      <td>3.102</td>\n",
       "      <td>1.354</td>\n",
       "      <td>0.980</td>\n",
       "      <td>0.978</td>\n",
       "      <td>0.920</td>\n",
       "      <td>0.722</td>\n",
       "      <td>0.989</td>\n",
       "      <td>0.877</td>\n",
       "    </tr>\n",
       "    <tr>\n",
       "      <th>1</th>\n",
       "      <td>1</td>\n",
       "      <td>0.908</td>\n",
       "      <td>0.329</td>\n",
       "      <td>0.359</td>\n",
       "      <td>1.498</td>\n",
       "      <td>-0.313</td>\n",
       "      <td>1.096</td>\n",
       "      <td>-0.558</td>\n",
       "      <td>-1.588</td>\n",
       "      <td>2.173</td>\n",
       "      <td>...</td>\n",
       "      <td>-1.139</td>\n",
       "      <td>-0.001</td>\n",
       "      <td>0.000</td>\n",
       "      <td>0.302</td>\n",
       "      <td>0.833</td>\n",
       "      <td>0.986</td>\n",
       "      <td>0.978</td>\n",
       "      <td>0.780</td>\n",
       "      <td>0.992</td>\n",
       "      <td>0.798</td>\n",
       "    </tr>\n",
       "    <tr>\n",
       "      <th>2</th>\n",
       "      <td>1</td>\n",
       "      <td>0.799</td>\n",
       "      <td>1.471</td>\n",
       "      <td>-1.636</td>\n",
       "      <td>0.454</td>\n",
       "      <td>0.426</td>\n",
       "      <td>1.105</td>\n",
       "      <td>1.282</td>\n",
       "      <td>1.382</td>\n",
       "      <td>0.000</td>\n",
       "      <td>...</td>\n",
       "      <td>1.129</td>\n",
       "      <td>0.900</td>\n",
       "      <td>0.000</td>\n",
       "      <td>0.910</td>\n",
       "      <td>1.108</td>\n",
       "      <td>0.986</td>\n",
       "      <td>0.951</td>\n",
       "      <td>0.803</td>\n",
       "      <td>0.866</td>\n",
       "      <td>0.780</td>\n",
       "    </tr>\n",
       "  </tbody>\n",
       "</table>\n",
       "<p>3 rows × 29 columns</p>\n",
       "</div>"
      ],
      "text/plain": [
       "   0      1      2      3      4      5      6      7      8      9   ...  \\\n",
       "0   1  0.869 -0.635  0.226  0.327 -0.690  0.754 -0.249 -1.092  0.000  ...   \n",
       "1   1  0.908  0.329  0.359  1.498 -0.313  1.096 -0.558 -1.588  2.173  ...   \n",
       "2   1  0.799  1.471 -1.636  0.454  0.426  1.105  1.282  1.382  0.000  ...   \n",
       "\n",
       "      19     20     21     22     23     24     25     26     27     28  \n",
       "0 -0.010 -0.046  3.102  1.354  0.980  0.978  0.920  0.722  0.989  0.877  \n",
       "1 -1.139 -0.001  0.000  0.302  0.833  0.986  0.978  0.780  0.992  0.798  \n",
       "2  1.129  0.900  0.000  0.910  1.108  0.986  0.951  0.803  0.866  0.780  \n",
       "\n",
       "[3 rows x 29 columns]"
      ]
     },
     "execution_count": 9,
     "metadata": {},
     "output_type": "execute_result"
    }
   ],
   "source": [
    "df_train.head(3)"
   ]
  },
  {
   "cell_type": "code",
   "execution_count": 10,
   "metadata": {},
   "outputs": [
    {
     "data": {
      "text/plain": [
       "(500, 29)"
      ]
     },
     "execution_count": 10,
     "metadata": {},
     "output_type": "execute_result"
    }
   ],
   "source": [
    "df_test.shape"
   ]
  },
  {
   "cell_type": "code",
   "execution_count": 11,
   "metadata": {},
   "outputs": [],
   "source": [
    "y_train = df_train[0]\n",
    "y_test = df_test[0]\n",
    "X_train = df_train.drop(0, axis=1)\n",
    "X_test = df_test.drop(0, axis=1)"
   ]
  },
  {
   "cell_type": "code",
   "execution_count": 12,
   "metadata": {},
   "outputs": [
    {
     "name": "stdout",
     "output_type": "stream",
     "text": [
      "<class 'pandas.core.series.Series'> <class 'pandas.core.frame.DataFrame'>\n"
     ]
    }
   ],
   "source": [
    "print(type(y_train), type(X_train))"
   ]
  },
  {
   "cell_type": "code",
   "execution_count": 13,
   "metadata": {},
   "outputs": [],
   "source": [
    "lgb_train = lgb.Dataset(X_train, y_train)\n",
    "lgb_eval = lgb.Dataset(X_test, y_test, reference=lgb_train)"
   ]
  },
  {
   "cell_type": "code",
   "execution_count": 14,
   "metadata": {},
   "outputs": [
    {
     "name": "stdout",
     "output_type": "stream",
     "text": [
      "Starting training...\n",
      "[1]\tvalid_0's l1: 0.491812\tvalid_0's l2: 0.24288\n",
      "Training until validation scores don't improve for 5 rounds\n",
      "[2]\tvalid_0's l1: 0.48798\tvalid_0's l2: 0.239307\n",
      "[3]\tvalid_0's l1: 0.483905\tvalid_0's l2: 0.235559\n",
      "[4]\tvalid_0's l1: 0.478533\tvalid_0's l2: 0.230771\n",
      "[5]\tvalid_0's l1: 0.47333\tvalid_0's l2: 0.226297\n",
      "[6]\tvalid_0's l1: 0.470079\tvalid_0's l2: 0.223692\n",
      "[7]\tvalid_0's l1: 0.466768\tvalid_0's l2: 0.220941\n",
      "[8]\tvalid_0's l1: 0.462971\tvalid_0's l2: 0.217982\n",
      "[9]\tvalid_0's l1: 0.459474\tvalid_0's l2: 0.215351\n",
      "[10]\tvalid_0's l1: 0.45619\tvalid_0's l2: 0.213064\n",
      "[11]\tvalid_0's l1: 0.4532\tvalid_0's l2: 0.211053\n",
      "[12]\tvalid_0's l1: 0.450526\tvalid_0's l2: 0.209336\n",
      "[13]\tvalid_0's l1: 0.447621\tvalid_0's l2: 0.207492\n",
      "[14]\tvalid_0's l1: 0.445178\tvalid_0's l2: 0.206016\n",
      "[15]\tvalid_0's l1: 0.442718\tvalid_0's l2: 0.204677\n",
      "[16]\tvalid_0's l1: 0.440293\tvalid_0's l2: 0.203224\n",
      "[17]\tvalid_0's l1: 0.437015\tvalid_0's l2: 0.201186\n",
      "[18]\tvalid_0's l1: 0.434725\tvalid_0's l2: 0.199626\n",
      "[19]\tvalid_0's l1: 0.432653\tvalid_0's l2: 0.198689\n",
      "[20]\tvalid_0's l1: 0.430279\tvalid_0's l2: 0.197377\n",
      "Did not meet early stopping. Best iteration is:\n",
      "[20]\tvalid_0's l1: 0.430279\tvalid_0's l2: 0.197377\n"
     ]
    }
   ],
   "source": [
    "params = {\n",
    "    'boosting_type': 'gbdt',\n",
    "    'objective': 'regression',\n",
    "    'metric': {'l2', 'l1'},\n",
    "    'num_leaves': 31,\n",
    "    'learning_rate': 0.05,\n",
    "    'feature_fraction': 0.9,\n",
    "    'bagging_fraction': 0.8,\n",
    "    'bagging_freq': 5,\n",
    "    'verbose': 0\n",
    "}\n",
    "\n",
    "print('Starting training...')\n",
    "\n",
    "gbm = lgb.train(params,\n",
    "                lgb_train,\n",
    "                num_boost_round=20,\n",
    "                valid_sets=lgb_eval,\n",
    "                early_stopping_rounds=5)"
   ]
  },
  {
   "cell_type": "code",
   "execution_count": 15,
   "metadata": {},
   "outputs": [
    {
     "name": "stdout",
     "output_type": "stream",
     "text": [
      "Saving model...\n"
     ]
    },
    {
     "data": {
      "text/plain": [
       "<lightgbm.basic.Booster at 0x1298bccf8>"
      ]
     },
     "execution_count": 15,
     "metadata": {},
     "output_type": "execute_result"
    }
   ],
   "source": [
    "print('Saving model...')\n",
    "\n",
    "gbm.save_model('data/simple_example_model.txt')"
   ]
  },
  {
   "cell_type": "code",
   "execution_count": 17,
   "metadata": {},
   "outputs": [
    {
     "name": "stdout",
     "output_type": "stream",
     "text": [
      "Starting predicting...\n",
      "The rmse of prediction is: 0.44427172467679765\n",
      "[0.5947354  0.45111956 0.34806607 0.50889704 0.36426725 0.33970103\n",
      " 0.4413845  0.36607818 0.69598061 0.40820738]\n"
     ]
    }
   ],
   "source": [
    "print('Starting predicting...')\n",
    "\n",
    "y_pred = gbm.predict(X_test, num_iteration=gbm.best_iteration)\n",
    "\n",
    "print('The rmse of prediction is:', mean_squared_error(y_test, y_pred) ** 0.5)\n",
    "\n",
    "print(y_pred[:10])"
   ]
  },
  {
   "cell_type": "code",
   "execution_count": null,
   "metadata": {},
   "outputs": [],
   "source": []
  }
 ],
 "metadata": {
  "kernelspec": {
   "display_name": "Python 3",
   "language": "python",
   "name": "python3"
  },
  "language_info": {
   "codemirror_mode": {
    "name": "ipython",
    "version": 3
   },
   "file_extension": ".py",
   "mimetype": "text/x-python",
   "name": "python",
   "nbconvert_exporter": "python",
   "pygments_lexer": "ipython3",
   "version": "3.7.3"
  }
 },
 "nbformat": 4,
 "nbformat_minor": 4
}
