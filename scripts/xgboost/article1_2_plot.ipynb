{
 "cells": [
  {
   "cell_type": "markdown",
   "metadata": {},
   "source": [
    "- Reference\n",
    "  - https://blog.amedama.jp/entry/2019/01/29/235642\n",
    "  - 学習の履歴を可視化するサンプルコード"
   ]
  },
  {
   "cell_type": "code",
   "execution_count": 1,
   "metadata": {},
   "outputs": [],
   "source": [
    "import numpy as np\n",
    "from sklearn import datasets\n",
    "from sklearn.model_selection import train_test_split\n",
    "from sklearn.metrics import accuracy_score"
   ]
  },
  {
   "cell_type": "code",
   "execution_count": 3,
   "metadata": {},
   "outputs": [],
   "source": [
    "import xgboost as xgb"
   ]
  },
  {
   "cell_type": "code",
   "execution_count": 4,
   "metadata": {},
   "outputs": [],
   "source": [
    "dataset = datasets.load_breast_cancer()\n",
    "X, y = dataset.data, dataset.target\n",
    "\n",
    "X_train, X_test, y_train, y_test = train_test_split(\n",
    "    X, y, test_size=0.3, shuffle=True, random_state=42, stratify=y)"
   ]
  },
  {
   "cell_type": "code",
   "execution_count": 5,
   "metadata": {},
   "outputs": [],
   "source": [
    "dtrain = xgb.DMatrix(X_train, label=y_train)\n",
    "dtest = xgb.DMatrix(X_test, label=y_test)"
   ]
  },
  {
   "cell_type": "code",
   "execution_count": 7,
   "metadata": {},
   "outputs": [
    {
     "name": "stdout",
     "output_type": "stream",
     "text": [
      "[0]\ttrain-logloss:0.46240\teval-logloss:0.49290\n",
      "[1]\ttrain-logloss:0.33344\teval-logloss:0.37602\n",
      "[2]\ttrain-logloss:0.24974\teval-logloss:0.30837\n",
      "[3]\ttrain-logloss:0.19168\teval-logloss:0.26162\n",
      "[4]\ttrain-logloss:0.15087\teval-logloss:0.22837\n",
      "[5]\ttrain-logloss:0.12011\teval-logloss:0.20208\n",
      "[6]\ttrain-logloss:0.09615\teval-logloss:0.17614\n",
      "[7]\ttrain-logloss:0.07942\teval-logloss:0.16177\n",
      "[8]\ttrain-logloss:0.06669\teval-logloss:0.15044\n",
      "[9]\ttrain-logloss:0.05665\teval-logloss:0.14649\n",
      "[10]\ttrain-logloss:0.04829\teval-logloss:0.13628\n",
      "[11]\ttrain-logloss:0.04239\teval-logloss:0.13244\n",
      "[12]\ttrain-logloss:0.03736\teval-logloss:0.12173\n",
      "[13]\ttrain-logloss:0.03319\teval-logloss:0.11718\n",
      "[14]\ttrain-logloss:0.02926\teval-logloss:0.11260\n",
      "[15]\ttrain-logloss:0.02656\teval-logloss:0.11169\n",
      "[16]\ttrain-logloss:0.02429\teval-logloss:0.11039\n",
      "[17]\ttrain-logloss:0.02263\teval-logloss:0.11370\n",
      "[18]\ttrain-logloss:0.02082\teval-logloss:0.11181\n",
      "[19]\ttrain-logloss:0.01902\teval-logloss:0.11299\n",
      "[20]\ttrain-logloss:0.01756\teval-logloss:0.11146\n",
      "[21]\ttrain-logloss:0.01647\teval-logloss:0.11087\n",
      "[22]\ttrain-logloss:0.01550\teval-logloss:0.11167\n",
      "[23]\ttrain-logloss:0.01467\teval-logloss:0.11473\n",
      "[24]\ttrain-logloss:0.01413\teval-logloss:0.11209\n",
      "[25]\ttrain-logloss:0.01367\teval-logloss:0.11072\n",
      "[26]\ttrain-logloss:0.01316\teval-logloss:0.10900\n",
      "[27]\ttrain-logloss:0.01274\teval-logloss:0.10877\n",
      "[28]\ttrain-logloss:0.01237\teval-logloss:0.10750\n",
      "[29]\ttrain-logloss:0.01176\teval-logloss:0.10875\n",
      "[30]\ttrain-logloss:0.01142\teval-logloss:0.10789\n",
      "[31]\ttrain-logloss:0.01091\teval-logloss:0.10599\n",
      "[32]\ttrain-logloss:0.01066\teval-logloss:0.10486\n",
      "[33]\ttrain-logloss:0.01039\teval-logloss:0.10478\n",
      "[34]\ttrain-logloss:0.01015\teval-logloss:0.10413\n",
      "[35]\ttrain-logloss:0.00991\teval-logloss:0.10258\n",
      "[36]\ttrain-logloss:0.00973\teval-logloss:0.10274\n",
      "[37]\ttrain-logloss:0.00949\teval-logloss:0.10078\n",
      "[38]\ttrain-logloss:0.00927\teval-logloss:0.10066\n",
      "[39]\ttrain-logloss:0.00917\teval-logloss:0.10043\n",
      "[40]\ttrain-logloss:0.00908\teval-logloss:0.10014\n",
      "[41]\ttrain-logloss:0.00898\teval-logloss:0.10048\n",
      "[42]\ttrain-logloss:0.00874\teval-logloss:0.10047\n",
      "[43]\ttrain-logloss:0.00865\teval-logloss:0.10009\n",
      "[44]\ttrain-logloss:0.00852\teval-logloss:0.09951\n",
      "[45]\ttrain-logloss:0.00844\teval-logloss:0.09924\n",
      "[46]\ttrain-logloss:0.00837\teval-logloss:0.09875\n",
      "[47]\ttrain-logloss:0.00829\teval-logloss:0.09814\n",
      "[48]\ttrain-logloss:0.00822\teval-logloss:0.09779\n",
      "[49]\ttrain-logloss:0.00815\teval-logloss:0.09819\n",
      "[50]\ttrain-logloss:0.00808\teval-logloss:0.09797\n",
      "[51]\ttrain-logloss:0.00801\teval-logloss:0.09766\n",
      "[52]\ttrain-logloss:0.00794\teval-logloss:0.09735\n",
      "[53]\ttrain-logloss:0.00789\teval-logloss:0.09706\n",
      "[54]\ttrain-logloss:0.00783\teval-logloss:0.09612\n",
      "[55]\ttrain-logloss:0.00776\teval-logloss:0.09651\n",
      "[56]\ttrain-logloss:0.00771\teval-logloss:0.09596\n",
      "[57]\ttrain-logloss:0.00765\teval-logloss:0.09568\n",
      "[58]\ttrain-logloss:0.00760\teval-logloss:0.09625\n",
      "[59]\ttrain-logloss:0.00754\teval-logloss:0.09604\n",
      "[60]\ttrain-logloss:0.00749\teval-logloss:0.09493\n",
      "[61]\ttrain-logloss:0.00744\teval-logloss:0.09455\n",
      "[62]\ttrain-logloss:0.00739\teval-logloss:0.09430\n",
      "[63]\ttrain-logloss:0.00734\teval-logloss:0.09454\n",
      "[64]\ttrain-logloss:0.00730\teval-logloss:0.09491\n",
      "[65]\ttrain-logloss:0.00725\teval-logloss:0.09475\n",
      "[66]\ttrain-logloss:0.00721\teval-logloss:0.09512\n",
      "[67]\ttrain-logloss:0.00716\teval-logloss:0.09464\n",
      "[68]\ttrain-logloss:0.00712\teval-logloss:0.09456\n",
      "[69]\ttrain-logloss:0.00708\teval-logloss:0.09352\n",
      "[70]\ttrain-logloss:0.00704\teval-logloss:0.09323\n",
      "[71]\ttrain-logloss:0.00699\teval-logloss:0.09361\n",
      "[72]\ttrain-logloss:0.00696\teval-logloss:0.09319\n",
      "[73]\ttrain-logloss:0.00692\teval-logloss:0.09269\n",
      "[74]\ttrain-logloss:0.00688\teval-logloss:0.09289\n",
      "[75]\ttrain-logloss:0.00685\teval-logloss:0.09317\n",
      "[76]\ttrain-logloss:0.00681\teval-logloss:0.09353\n",
      "[77]\ttrain-logloss:0.00677\teval-logloss:0.09327\n",
      "[78]\ttrain-logloss:0.00674\teval-logloss:0.09362\n",
      "[79]\ttrain-logloss:0.00671\teval-logloss:0.09322\n",
      "[80]\ttrain-logloss:0.00668\teval-logloss:0.09276\n",
      "[81]\ttrain-logloss:0.00665\teval-logloss:0.09254\n",
      "[82]\ttrain-logloss:0.00662\teval-logloss:0.09291\n",
      "[83]\ttrain-logloss:0.00659\teval-logloss:0.09319\n",
      "[84]\ttrain-logloss:0.00656\teval-logloss:0.09337\n",
      "[85]\ttrain-logloss:0.00653\teval-logloss:0.09292\n",
      "[86]\ttrain-logloss:0.00650\teval-logloss:0.09272\n",
      "[87]\ttrain-logloss:0.00647\teval-logloss:0.09273\n",
      "[88]\ttrain-logloss:0.00645\teval-logloss:0.09292\n",
      "[89]\ttrain-logloss:0.00642\teval-logloss:0.09286\n",
      "[90]\ttrain-logloss:0.00639\teval-logloss:0.09243\n",
      "[91]\ttrain-logloss:0.00637\teval-logloss:0.09226\n",
      "[92]\ttrain-logloss:0.00634\teval-logloss:0.09261\n",
      "[93]\ttrain-logloss:0.00632\teval-logloss:0.09284\n",
      "[94]\ttrain-logloss:0.00630\teval-logloss:0.09300\n",
      "[95]\ttrain-logloss:0.00628\teval-logloss:0.09285\n",
      "[96]\ttrain-logloss:0.00625\teval-logloss:0.09245\n",
      "[97]\ttrain-logloss:0.00623\teval-logloss:0.09269\n",
      "[98]\ttrain-logloss:0.00621\teval-logloss:0.09269\n",
      "[99]\ttrain-logloss:0.00618\teval-logloss:0.09288\n",
      "[100]\ttrain-logloss:0.00616\teval-logloss:0.09275\n",
      "[101]\ttrain-logloss:0.00614\teval-logloss:0.09309\n",
      "[102]\ttrain-logloss:0.00612\teval-logloss:0.09272\n",
      "[103]\ttrain-logloss:0.00610\teval-logloss:0.09289\n",
      "[104]\ttrain-logloss:0.00608\teval-logloss:0.09277\n",
      "[105]\ttrain-logloss:0.00606\teval-logloss:0.09300\n",
      "[106]\ttrain-logloss:0.00604\teval-logloss:0.09265\n",
      "[107]\ttrain-logloss:0.00602\teval-logloss:0.09266\n",
      "[108]\ttrain-logloss:0.00600\teval-logloss:0.09256\n",
      "[109]\ttrain-logloss:0.00598\teval-logloss:0.09277\n",
      "[110]\ttrain-logloss:0.00597\teval-logloss:0.09245\n",
      "[111]\ttrain-logloss:0.00595\teval-logloss:0.09237\n",
      "[112]\ttrain-logloss:0.00594\teval-logloss:0.09238\n",
      "[113]\ttrain-logloss:0.00592\teval-logloss:0.09251\n",
      "[114]\ttrain-logloss:0.00591\teval-logloss:0.09217\n",
      "[115]\ttrain-logloss:0.00589\teval-logloss:0.09216\n",
      "[116]\ttrain-logloss:0.00588\teval-logloss:0.09232\n",
      "[117]\ttrain-logloss:0.00586\teval-logloss:0.09185\n",
      "[118]\ttrain-logloss:0.00585\teval-logloss:0.09177\n",
      "[119]\ttrain-logloss:0.00584\teval-logloss:0.09149\n",
      "[120]\ttrain-logloss:0.00582\teval-logloss:0.09150\n",
      "[121]\ttrain-logloss:0.00581\teval-logloss:0.09156\n",
      "[122]\ttrain-logloss:0.00580\teval-logloss:0.09163\n",
      "[123]\ttrain-logloss:0.00579\teval-logloss:0.09137\n",
      "[124]\ttrain-logloss:0.00577\teval-logloss:0.09116\n",
      "[125]\ttrain-logloss:0.00576\teval-logloss:0.09086\n",
      "[126]\ttrain-logloss:0.00575\teval-logloss:0.09121\n",
      "[127]\ttrain-logloss:0.00574\teval-logloss:0.09128\n",
      "[128]\ttrain-logloss:0.00573\teval-logloss:0.09104\n",
      "[129]\ttrain-logloss:0.00572\teval-logloss:0.09098\n",
      "[130]\ttrain-logloss:0.00571\teval-logloss:0.09109\n",
      "[131]\ttrain-logloss:0.00570\teval-logloss:0.09143\n",
      "[132]\ttrain-logloss:0.00569\teval-logloss:0.09126\n",
      "[133]\ttrain-logloss:0.00568\teval-logloss:0.09103\n",
      "[134]\ttrain-logloss:0.00567\teval-logloss:0.09076\n",
      "[135]\ttrain-logloss:0.00566\teval-logloss:0.09083\n",
      "[136]\ttrain-logloss:0.00565\teval-logloss:0.09101\n",
      "[137]\ttrain-logloss:0.00564\teval-logloss:0.09083\n",
      "[138]\ttrain-logloss:0.00563\teval-logloss:0.09114\n",
      "[139]\ttrain-logloss:0.00562\teval-logloss:0.09125\n",
      "[140]\ttrain-logloss:0.00561\teval-logloss:0.09132\n",
      "[141]\ttrain-logloss:0.00560\teval-logloss:0.09110\n",
      "[142]\ttrain-logloss:0.00560\teval-logloss:0.09105\n",
      "[143]\ttrain-logloss:0.00559\teval-logloss:0.09122\n",
      "[144]\ttrain-logloss:0.00558\teval-logloss:0.09108\n",
      "[145]\ttrain-logloss:0.00557\teval-logloss:0.09088\n",
      "[146]\ttrain-logloss:0.00556\teval-logloss:0.09098\n",
      "[147]\ttrain-logloss:0.00556\teval-logloss:0.09105\n",
      "[148]\ttrain-logloss:0.00555\teval-logloss:0.09132\n",
      "[149]\ttrain-logloss:0.00554\teval-logloss:0.09114\n",
      "[150]\ttrain-logloss:0.00554\teval-logloss:0.09101\n",
      "[151]\ttrain-logloss:0.00553\teval-logloss:0.09111\n",
      "[152]\ttrain-logloss:0.00552\teval-logloss:0.09135\n",
      "[153]\ttrain-logloss:0.00552\teval-logloss:0.09142\n",
      "[154]\ttrain-logloss:0.00551\teval-logloss:0.09151\n",
      "[155]\ttrain-logloss:0.00550\teval-logloss:0.09140\n",
      "[156]\ttrain-logloss:0.00550\teval-logloss:0.09166\n",
      "[157]\ttrain-logloss:0.00549\teval-logloss:0.09149\n",
      "[158]\ttrain-logloss:0.00549\teval-logloss:0.09155\n",
      "[159]\ttrain-logloss:0.00548\teval-logloss:0.09136\n",
      "[160]\ttrain-logloss:0.00548\teval-logloss:0.09144\n",
      "[161]\ttrain-logloss:0.00547\teval-logloss:0.09167\n",
      "[162]\ttrain-logloss:0.00547\teval-logloss:0.09173\n",
      "[163]\ttrain-logloss:0.00546\teval-logloss:0.09157\n",
      "[164]\ttrain-logloss:0.00546\teval-logloss:0.09156\n",
      "[165]\ttrain-logloss:0.00545\teval-logloss:0.09142\n",
      "[166]\ttrain-logloss:0.00545\teval-logloss:0.09149\n",
      "[167]\ttrain-logloss:0.00545\teval-logloss:0.09155\n",
      "[168]\ttrain-logloss:0.00544\teval-logloss:0.09174\n",
      "[169]\ttrain-logloss:0.00544\teval-logloss:0.09180\n"
     ]
    },
    {
     "name": "stdout",
     "output_type": "stream",
     "text": [
      "[170]\ttrain-logloss:0.00544\teval-logloss:0.09180\n",
      "[171]\ttrain-logloss:0.00544\teval-logloss:0.09180\n",
      "[172]\ttrain-logloss:0.00544\teval-logloss:0.09180\n",
      "[173]\ttrain-logloss:0.00544\teval-logloss:0.09180\n",
      "[174]\ttrain-logloss:0.00544\teval-logloss:0.09180\n",
      "[175]\ttrain-logloss:0.00544\teval-logloss:0.09180\n",
      "[176]\ttrain-logloss:0.00544\teval-logloss:0.09180\n",
      "[177]\ttrain-logloss:0.00544\teval-logloss:0.09180\n",
      "[178]\ttrain-logloss:0.00544\teval-logloss:0.09180\n",
      "[179]\ttrain-logloss:0.00544\teval-logloss:0.09180\n",
      "[180]\ttrain-logloss:0.00544\teval-logloss:0.09180\n",
      "[181]\ttrain-logloss:0.00544\teval-logloss:0.09180\n",
      "[182]\ttrain-logloss:0.00544\teval-logloss:0.09180\n",
      "[183]\ttrain-logloss:0.00544\teval-logloss:0.09180\n",
      "[184]\ttrain-logloss:0.00544\teval-logloss:0.09180\n",
      "[185]\ttrain-logloss:0.00544\teval-logloss:0.09180\n",
      "[186]\ttrain-logloss:0.00544\teval-logloss:0.09180\n",
      "[187]\ttrain-logloss:0.00544\teval-logloss:0.09180\n",
      "[188]\ttrain-logloss:0.00544\teval-logloss:0.09180\n",
      "[189]\ttrain-logloss:0.00544\teval-logloss:0.09180\n",
      "[190]\ttrain-logloss:0.00544\teval-logloss:0.09180\n",
      "[191]\ttrain-logloss:0.00544\teval-logloss:0.09180\n",
      "[192]\ttrain-logloss:0.00544\teval-logloss:0.09180\n",
      "[193]\ttrain-logloss:0.00544\teval-logloss:0.09180\n",
      "[194]\ttrain-logloss:0.00544\teval-logloss:0.09180\n",
      "[195]\ttrain-logloss:0.00544\teval-logloss:0.09180\n",
      "[196]\ttrain-logloss:0.00544\teval-logloss:0.09180\n",
      "[197]\ttrain-logloss:0.00544\teval-logloss:0.09180\n",
      "[198]\ttrain-logloss:0.00544\teval-logloss:0.09180\n",
      "[199]\ttrain-logloss:0.00544\teval-logloss:0.09180\n"
     ]
    }
   ],
   "source": [
    "xgb_params = {\n",
    "    'objective': 'binary:logistic',\n",
    "    'eval_metric': 'logloss',\n",
    "}\n",
    "\n",
    "evals = [(dtrain, 'train'), (dtest, 'eval')]\n",
    "evals_result = {}\n",
    "\n",
    "# bst = xgb.train(xgb_params,\n",
    "#                 dtrain,\n",
    "#                 num_boost_round=100,)\n",
    "bst = xgb.train(xgb_params,\n",
    "                dtrain,\n",
    "                #num_boost_round=1000,\n",
    "                num_boost_round=200,\n",
    "                evals=evals,\n",
    "                evals_result=evals_result,)"
   ]
  },
  {
   "cell_type": "code",
   "execution_count": 8,
   "metadata": {},
   "outputs": [
    {
     "name": "stdout",
     "output_type": "stream",
     "text": [
      "Accuracy: 0.9649122807017544\n"
     ]
    }
   ],
   "source": [
    "y_pred_proba = bst.predict(dtest)\n",
    "y_pred = np.where(y_pred_proba > 0.5, 1, 0)\n",
    "acc = accuracy_score(y_test, y_pred)\n",
    "print('Accuracy:', acc)"
   ]
  },
  {
   "cell_type": "code",
   "execution_count": 10,
   "metadata": {},
   "outputs": [
    {
     "name": "stdout",
     "output_type": "stream",
     "text": [
      "[0.462396, 0.33344, 0.249744]\n",
      "[0.492899, 0.376018, 0.308367]\n"
     ]
    }
   ],
   "source": [
    "print(evals_result['train']['logloss'][:3])\n",
    "print(evals_result['eval']['logloss'][:3])"
   ]
  },
  {
   "cell_type": "code",
   "execution_count": 11,
   "metadata": {},
   "outputs": [
    {
     "ename": "NameError",
     "evalue": "name 'plt' is not defined",
     "output_type": "error",
     "traceback": [
      "\u001b[0;31m---------------------------------------------------------------------------\u001b[0m",
      "\u001b[0;31mNameError\u001b[0m                                 Traceback (most recent call last)",
      "\u001b[0;32m<ipython-input-11-2ad74857c4d8>\u001b[0m in \u001b[0;36m<module>\u001b[0;34m\u001b[0m\n\u001b[1;32m      1\u001b[0m \u001b[0mtrain_metric\u001b[0m \u001b[0;34m=\u001b[0m \u001b[0mevals_result\u001b[0m\u001b[0;34m[\u001b[0m\u001b[0;34m'train'\u001b[0m\u001b[0;34m]\u001b[0m\u001b[0;34m[\u001b[0m\u001b[0;34m'logloss'\u001b[0m\u001b[0;34m]\u001b[0m\u001b[0;34m\u001b[0m\u001b[0;34m\u001b[0m\u001b[0m\n\u001b[0;32m----> 2\u001b[0;31m \u001b[0mplt\u001b[0m\u001b[0;34m.\u001b[0m\u001b[0mplot\u001b[0m\u001b[0;34m(\u001b[0m\u001b[0mtrain_metric\u001b[0m\u001b[0;34m,\u001b[0m \u001b[0mlabel\u001b[0m\u001b[0;34m=\u001b[0m\u001b[0;34m'train logloss'\u001b[0m\u001b[0;34m)\u001b[0m\u001b[0;34m\u001b[0m\u001b[0;34m\u001b[0m\u001b[0m\n\u001b[0m\u001b[1;32m      3\u001b[0m \u001b[0;34m\u001b[0m\u001b[0m\n\u001b[1;32m      4\u001b[0m \u001b[0meval_metric\u001b[0m \u001b[0;34m=\u001b[0m \u001b[0mevals_result\u001b[0m\u001b[0;34m[\u001b[0m\u001b[0;34m'eval'\u001b[0m\u001b[0;34m]\u001b[0m\u001b[0;34m[\u001b[0m\u001b[0;34m'logloss'\u001b[0m\u001b[0;34m]\u001b[0m\u001b[0;34m\u001b[0m\u001b[0;34m\u001b[0m\u001b[0m\n\u001b[1;32m      5\u001b[0m \u001b[0mplt\u001b[0m\u001b[0;34m.\u001b[0m\u001b[0mplot\u001b[0m\u001b[0;34m(\u001b[0m\u001b[0meval_metric\u001b[0m\u001b[0;34m,\u001b[0m \u001b[0mlabel\u001b[0m\u001b[0;34m=\u001b[0m\u001b[0;34m'eval logloss'\u001b[0m\u001b[0;34m)\u001b[0m\u001b[0;34m\u001b[0m\u001b[0;34m\u001b[0m\u001b[0m\n",
      "\u001b[0;31mNameError\u001b[0m: name 'plt' is not defined"
     ]
    }
   ],
   "source": [
    "train_metric = evals_result['train']['logloss']\n",
    "plt.plot(train_metric, label='train logloss')\n",
    "\n",
    "eval_metric = evals_result['eval']['logloss']\n",
    "plt.plot(eval_metric, label='eval logloss')\n",
    "\n",
    "plt.grid()\n",
    "plt.legend()\n",
    "plt.xlabel('rounds')\n",
    "plt.ylabel('logloss')\n",
    "plt.show()"
   ]
  },
  {
   "cell_type": "code",
   "execution_count": null,
   "metadata": {},
   "outputs": [],
   "source": []
  }
 ],
 "metadata": {
  "kernelspec": {
   "display_name": "Python 3",
   "language": "python",
   "name": "python3"
  },
  "language_info": {
   "codemirror_mode": {
    "name": "ipython",
    "version": 3
   },
   "file_extension": ".py",
   "mimetype": "text/x-python",
   "name": "python",
   "nbconvert_exporter": "python",
   "pygments_lexer": "ipython3",
   "version": "3.7.3"
  }
 },
 "nbformat": 4,
 "nbformat_minor": 4
}
