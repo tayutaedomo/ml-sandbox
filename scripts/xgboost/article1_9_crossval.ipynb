{
 "cells": [
  {
   "cell_type": "markdown",
   "metadata": {},
   "source": [
    "- Reference\n",
    "  - https://blog.amedama.jp/entry/2019/01/29/235642\n",
    "  - 組み込みの交差検証"
   ]
  },
  {
   "cell_type": "code",
   "execution_count": 1,
   "metadata": {},
   "outputs": [],
   "source": [
    "import numpy as np\n",
    "from matplotlib import pyplot as plt\n",
    "\n",
    "from sklearn import datasets\n",
    "from sklearn.model_selection import train_test_split\n",
    "from sklearn.metrics import accuracy_score"
   ]
  },
  {
   "cell_type": "code",
   "execution_count": 2,
   "metadata": {},
   "outputs": [],
   "source": [
    "import xgboost as xgb"
   ]
  },
  {
   "cell_type": "code",
   "execution_count": 3,
   "metadata": {},
   "outputs": [],
   "source": [
    "dataset = datasets.load_breast_cancer()\n",
    "X, y = dataset.data, dataset.target"
   ]
  },
  {
   "cell_type": "code",
   "execution_count": 9,
   "metadata": {},
   "outputs": [],
   "source": [
    "#dtrain = xgb.DMatrix(X_train, label=y_train)\n",
    "#dtest = xgb.DMatrix(X_test, label=y_test)\n",
    "\n",
    "dtrain = xgb.DMatrix(X, label=y)"
   ]
  },
  {
   "cell_type": "code",
   "execution_count": 10,
   "metadata": {},
   "outputs": [
    {
     "name": "stdout",
     "output_type": "stream",
     "text": [
      "[0]\ttrain-logloss:0.46191+0.00201\ttest-logloss:0.48262+0.01761\n",
      "[1]\ttrain-logloss:0.33019+0.00133\ttest-logloss:0.36473+0.02390\n",
      "[2]\ttrain-logloss:0.24479+0.00177\ttest-logloss:0.29025+0.03124\n",
      "[3]\ttrain-logloss:0.18546+0.00180\ttest-logloss:0.23864+0.03532\n",
      "[4]\ttrain-logloss:0.14318+0.00183\ttest-logloss:0.20102+0.03969\n",
      "[5]\ttrain-logloss:0.11288+0.00169\ttest-logloss:0.17490+0.03912\n",
      "[6]\ttrain-logloss:0.09082+0.00141\ttest-logloss:0.15802+0.04489\n",
      "[7]\ttrain-logloss:0.07417+0.00159\ttest-logloss:0.14257+0.04424\n",
      "[8]\ttrain-logloss:0.06181+0.00160\ttest-logloss:0.13379+0.04676\n",
      "[9]\ttrain-logloss:0.05210+0.00148\ttest-logloss:0.12532+0.04805\n",
      "[10]\ttrain-logloss:0.04419+0.00147\ttest-logloss:0.11680+0.04772\n",
      "[11]\ttrain-logloss:0.03785+0.00146\ttest-logloss:0.11072+0.04839\n",
      "[12]\ttrain-logloss:0.03287+0.00125\ttest-logloss:0.10662+0.04719\n",
      "[13]\ttrain-logloss:0.02892+0.00100\ttest-logloss:0.10493+0.04944\n",
      "[14]\ttrain-logloss:0.02590+0.00101\ttest-logloss:0.10352+0.05133\n",
      "[15]\ttrain-logloss:0.02328+0.00090\ttest-logloss:0.10123+0.05082\n",
      "[16]\ttrain-logloss:0.02116+0.00077\ttest-logloss:0.09889+0.05096\n",
      "[17]\ttrain-logloss:0.01931+0.00076\ttest-logloss:0.09994+0.05385\n",
      "[18]\ttrain-logloss:0.01793+0.00075\ttest-logloss:0.09814+0.05402\n",
      "[19]\ttrain-logloss:0.01660+0.00062\ttest-logloss:0.09724+0.05447\n",
      "[20]\ttrain-logloss:0.01548+0.00058\ttest-logloss:0.09615+0.05527\n",
      "[21]\ttrain-logloss:0.01445+0.00051\ttest-logloss:0.09605+0.05582\n",
      "[22]\ttrain-logloss:0.01360+0.00049\ttest-logloss:0.09521+0.05540\n",
      "[23]\ttrain-logloss:0.01288+0.00045\ttest-logloss:0.09500+0.05490\n",
      "[24]\ttrain-logloss:0.01231+0.00041\ttest-logloss:0.09485+0.05524\n",
      "[25]\ttrain-logloss:0.01177+0.00030\ttest-logloss:0.09427+0.05625\n",
      "[26]\ttrain-logloss:0.01125+0.00027\ttest-logloss:0.09381+0.05701\n",
      "[27]\ttrain-logloss:0.01088+0.00030\ttest-logloss:0.09328+0.05682\n",
      "[28]\ttrain-logloss:0.01050+0.00032\ttest-logloss:0.09319+0.05739\n",
      "[29]\ttrain-logloss:0.01017+0.00031\ttest-logloss:0.09312+0.05791\n",
      "[30]\ttrain-logloss:0.00983+0.00033\ttest-logloss:0.09420+0.05924\n",
      "[31]\ttrain-logloss:0.00956+0.00031\ttest-logloss:0.09425+0.05959\n",
      "[32]\ttrain-logloss:0.00928+0.00030\ttest-logloss:0.09346+0.05887\n",
      "[33]\ttrain-logloss:0.00903+0.00030\ttest-logloss:0.09352+0.05947\n",
      "[34]\ttrain-logloss:0.00878+0.00029\ttest-logloss:0.09329+0.05950\n",
      "[35]\ttrain-logloss:0.00857+0.00027\ttest-logloss:0.09326+0.05961\n",
      "[36]\ttrain-logloss:0.00836+0.00030\ttest-logloss:0.09285+0.06005\n",
      "[37]\ttrain-logloss:0.00819+0.00029\ttest-logloss:0.09251+0.05959\n",
      "[38]\ttrain-logloss:0.00803+0.00029\ttest-logloss:0.09282+0.05983\n",
      "[39]\ttrain-logloss:0.00786+0.00029\ttest-logloss:0.09271+0.06061\n",
      "[40]\ttrain-logloss:0.00769+0.00026\ttest-logloss:0.09176+0.06004\n",
      "[41]\ttrain-logloss:0.00753+0.00026\ttest-logloss:0.09195+0.06013\n",
      "[42]\ttrain-logloss:0.00738+0.00025\ttest-logloss:0.09097+0.05922\n",
      "[43]\ttrain-logloss:0.00726+0.00023\ttest-logloss:0.09053+0.05931\n",
      "[44]\ttrain-logloss:0.00714+0.00019\ttest-logloss:0.09010+0.05935\n",
      "[45]\ttrain-logloss:0.00703+0.00018\ttest-logloss:0.09024+0.05942\n",
      "[46]\ttrain-logloss:0.00691+0.00018\ttest-logloss:0.08955+0.05903\n",
      "[47]\ttrain-logloss:0.00682+0.00018\ttest-logloss:0.08981+0.05963\n",
      "[48]\ttrain-logloss:0.00674+0.00017\ttest-logloss:0.08969+0.06000\n",
      "[49]\ttrain-logloss:0.00665+0.00015\ttest-logloss:0.08934+0.06024\n",
      "[50]\ttrain-logloss:0.00658+0.00014\ttest-logloss:0.08961+0.06036\n",
      "[51]\ttrain-logloss:0.00652+0.00013\ttest-logloss:0.08933+0.06007\n",
      "[52]\ttrain-logloss:0.00646+0.00011\ttest-logloss:0.08927+0.05998\n",
      "[53]\ttrain-logloss:0.00640+0.00011\ttest-logloss:0.08943+0.06042\n",
      "[54]\ttrain-logloss:0.00634+0.00010\ttest-logloss:0.08928+0.06018\n",
      "[55]\ttrain-logloss:0.00630+0.00010\ttest-logloss:0.08944+0.06056\n",
      "[56]\ttrain-logloss:0.00625+0.00011\ttest-logloss:0.08947+0.06091\n",
      "[57]\ttrain-logloss:0.00620+0.00010\ttest-logloss:0.08937+0.06098\n",
      "[58]\ttrain-logloss:0.00616+0.00010\ttest-logloss:0.08939+0.06107\n",
      "[59]\ttrain-logloss:0.00611+0.00011\ttest-logloss:0.08916+0.06089\n",
      "[60]\ttrain-logloss:0.00607+0.00011\ttest-logloss:0.08919+0.06092\n",
      "[61]\ttrain-logloss:0.00603+0.00011\ttest-logloss:0.08900+0.06103\n",
      "[62]\ttrain-logloss:0.00599+0.00011\ttest-logloss:0.08877+0.06121\n",
      "[63]\ttrain-logloss:0.00595+0.00011\ttest-logloss:0.08943+0.06160\n",
      "[64]\ttrain-logloss:0.00591+0.00012\ttest-logloss:0.08933+0.06168\n",
      "[65]\ttrain-logloss:0.00588+0.00012\ttest-logloss:0.08920+0.06192\n",
      "[66]\ttrain-logloss:0.00584+0.00012\ttest-logloss:0.08946+0.06235\n",
      "[67]\ttrain-logloss:0.00581+0.00012\ttest-logloss:0.08947+0.06245\n",
      "[68]\ttrain-logloss:0.00577+0.00012\ttest-logloss:0.08918+0.06243\n",
      "[69]\ttrain-logloss:0.00574+0.00012\ttest-logloss:0.08968+0.06274\n",
      "[70]\ttrain-logloss:0.00570+0.00013\ttest-logloss:0.08966+0.06284\n",
      "[71]\ttrain-logloss:0.00567+0.00013\ttest-logloss:0.08923+0.06263\n"
     ]
    }
   ],
   "source": [
    "xgb_params = {\n",
    "    'objective': 'binary:logistic',\n",
    "    'eval_metric': 'logloss',\n",
    "}\n",
    "\n",
    "# evals = [(dtrain, 'train'), (dtest, 'eval')]\n",
    "# evals_result = {}\n",
    "\n",
    "# bst = xgb.train(xgb_params,\n",
    "#                 dtrain,\n",
    "#                 num_boost_round=1000,\n",
    "#                 early_stopping_rounds=10,\n",
    "#                 evals=evals,\n",
    "#                 evals_result=evals_result,\n",
    "#                 feval=feval_accuracy)\n",
    "\n",
    "history = xgb.cv(xgb_params,\n",
    "                 dtrain,\n",
    "                 num_boost_round=1000,\n",
    "                 early_stopping_rounds=10,\n",
    "                 nfold=10,\n",
    "                 stratified=True,\n",
    "                 verbose_eval=True,)"
   ]
  },
  {
   "cell_type": "code",
   "execution_count": 11,
   "metadata": {},
   "outputs": [
    {
     "data": {
      "image/png": "[encoded data removed]",
      "text/plain": [
       "<Figure size 432x288 with 1 Axes>"
      ]
     },
     "metadata": {
      "needs_background": "light"
     },
     "output_type": "display_data"
    }
   ],
   "source": [
    "train_metric = history['train-logloss-mean']\n",
    "plt.plot(train_metric, label='train logloss')\n",
    "\n",
    "eval_metric = history['test-logloss-mean']\n",
    "plt.plot(eval_metric, label='eval logloss')\n",
    "\n",
    "plt.grid()\n",
    "plt.legend()\n",
    "plt.xlabel('rounds')\n",
    "plt.ylabel('logloss')\n",
    "plt.show()"
   ]
  },
  {
   "cell_type": "code",
   "execution_count": null,
   "metadata": {},
   "outputs": [],
   "source": []
  }
 ],
 "metadata": {
  "kernelspec": {
   "display_name": "Python 3",
   "language": "python",
   "name": "python3"
  },
  "language_info": {
   "codemirror_mode": {
    "name": "ipython",
    "version": 3
   },
   "file_extension": ".py",
   "mimetype": "text/x-python",
   "name": "python",
   "nbconvert_exporter": "python",
   "pygments_lexer": "ipython3",
   "version": "3.7.3"
  }
 },
 "nbformat": 4,
 "nbformat_minor": 4
}
