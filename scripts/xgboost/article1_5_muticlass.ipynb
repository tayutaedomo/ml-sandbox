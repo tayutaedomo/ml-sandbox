{
 "cells": [
  {
   "cell_type": "markdown",
   "metadata": {},
   "source": [
    "- Reference\n",
    "  - https://blog.amedama.jp/entry/2019/01/29/235642\n",
    "  - 多値分類問題を扱う"
   ]
  },
  {
   "cell_type": "code",
   "execution_count": 1,
   "metadata": {},
   "outputs": [],
   "source": [
    "import numpy as np\n",
    "from sklearn import datasets\n",
    "from sklearn.model_selection import train_test_split\n",
    "from sklearn.metrics import accuracy_score\n",
    "from matplotlib import pyplot as plt"
   ]
  },
  {
   "cell_type": "code",
   "execution_count": 2,
   "metadata": {},
   "outputs": [],
   "source": [
    "import xgboost as xgb"
   ]
  },
  {
   "cell_type": "code",
   "execution_count": 10,
   "metadata": {},
   "outputs": [],
   "source": [
    "#dataset = datasets.load_breast_cancer()\n",
    "dataset = datasets.load_iris()\n",
    "X, y = dataset.data, dataset.target\n",
    "\n",
    "X_train, X_test, y_train, y_test = train_test_split(\n",
    "    X, y, test_size=0.3, shuffle=True, random_state=42, stratify=y)"
   ]
  },
  {
   "cell_type": "code",
   "execution_count": 11,
   "metadata": {},
   "outputs": [],
   "source": [
    "dtrain = xgb.DMatrix(X_train, label=y_train)\n",
    "dtest = xgb.DMatrix(X_test, label=y_test)"
   ]
  },
  {
   "cell_type": "code",
   "execution_count": 12,
   "metadata": {},
   "outputs": [
    {
     "name": "stdout",
     "output_type": "stream",
     "text": [
      "[0]\ttrain-mlogloss:0.74229\teval-mlogloss:0.76578\n",
      "Multiple eval metrics have been passed: 'eval-mlogloss' will be used for early stopping.\n",
      "\n",
      "Will train until eval-mlogloss hasn't improved in 10 rounds.\n",
      "[1]\ttrain-mlogloss:0.53065\teval-mlogloss:0.56586\n",
      "[2]\ttrain-mlogloss:0.39291\teval-mlogloss:0.44111\n",
      "[3]\ttrain-mlogloss:0.29864\teval-mlogloss:0.35772\n",
      "[4]\ttrain-mlogloss:0.23161\teval-mlogloss:0.30303\n",
      "[5]\ttrain-mlogloss:0.18313\teval-mlogloss:0.26998\n",
      "[6]\ttrain-mlogloss:0.14774\teval-mlogloss:0.24459\n",
      "[7]\ttrain-mlogloss:0.12119\teval-mlogloss:0.22865\n",
      "[8]\ttrain-mlogloss:0.10136\teval-mlogloss:0.21806\n",
      "[9]\ttrain-mlogloss:0.08644\teval-mlogloss:0.20913\n",
      "[10]\ttrain-mlogloss:0.07479\teval-mlogloss:0.20622\n",
      "[11]\ttrain-mlogloss:0.06401\teval-mlogloss:0.20976\n",
      "[12]\ttrain-mlogloss:0.05654\teval-mlogloss:0.20498\n",
      "[13]\ttrain-mlogloss:0.05095\teval-mlogloss:0.20384\n",
      "[14]\ttrain-mlogloss:0.04637\teval-mlogloss:0.19950\n",
      "[15]\ttrain-mlogloss:0.04319\teval-mlogloss:0.19810\n",
      "[16]\ttrain-mlogloss:0.03985\teval-mlogloss:0.19591\n",
      "[17]\ttrain-mlogloss:0.03759\teval-mlogloss:0.19711\n",
      "[18]\ttrain-mlogloss:0.03585\teval-mlogloss:0.20368\n",
      "[19]\ttrain-mlogloss:0.03459\teval-mlogloss:0.20251\n",
      "[20]\ttrain-mlogloss:0.03391\teval-mlogloss:0.20450\n",
      "[21]\ttrain-mlogloss:0.03306\teval-mlogloss:0.20459\n",
      "[22]\ttrain-mlogloss:0.03184\teval-mlogloss:0.21002\n",
      "[23]\ttrain-mlogloss:0.03135\teval-mlogloss:0.21219\n",
      "[24]\ttrain-mlogloss:0.03071\teval-mlogloss:0.21224\n",
      "[25]\ttrain-mlogloss:0.03030\teval-mlogloss:0.21469\n",
      "[26]\ttrain-mlogloss:0.02980\teval-mlogloss:0.21508\n",
      "Stopping. Best iteration:\n",
      "[16]\ttrain-mlogloss:0.03985\teval-mlogloss:0.19591\n",
      "\n"
     ]
    }
   ],
   "source": [
    "xgb_params = {\n",
    "#     'objective': 'binary:logistic',\n",
    "#     'eval_metric': 'logloss',\n",
    "    'objective': 'multi:softmax',\n",
    "    'num_class': 3,\n",
    "    'eval_metric': 'mlogloss',\n",
    "}\n",
    "\n",
    "evals = [(dtrain, 'train'), (dtest, 'eval')]\n",
    "evals_result = {}\n",
    "\n",
    "bst = xgb.train(xgb_params,\n",
    "                dtrain,\n",
    "                num_boost_round=1000,\n",
    "                early_stopping_rounds=10,\n",
    "                evals=evals,\n",
    "                evals_result=evals_result)"
   ]
  },
  {
   "cell_type": "code",
   "execution_count": 13,
   "metadata": {},
   "outputs": [
    {
     "name": "stdout",
     "output_type": "stream",
     "text": [
      "Accuracy: 0.9333333333333333\n"
     ]
    }
   ],
   "source": [
    "y_pred = bst.predict(dtest)\n",
    "acc = accuracy_score(y_test, y_pred)\n",
    "print('Accuracy:', acc)"
   ]
  },
  {
   "cell_type": "code",
   "execution_count": 14,
   "metadata": {},
   "outputs": [
    {
     "name": "stdout",
     "output_type": "stream",
     "text": [
      "[2. 1. 2. 1. 2. 2. 1. 1. 0. 2. 0. 0. 2. 2. 0. 2. 1. 0. 0. 0. 1. 0. 1. 2.\n",
      " 1. 1. 1. 1. 1. 0. 2. 2. 1. 0. 2. 0. 0. 0. 0. 2. 1. 0. 1. 2. 1.]\n"
     ]
    }
   ],
   "source": [
    "print(y_pred)"
   ]
  },
  {
   "cell_type": "code",
   "execution_count": 16,
   "metadata": {},
   "outputs": [
    {
     "name": "stdout",
     "output_type": "stream",
     "text": [
      "{'train': {'mlogloss': [0.742288, 0.530648, 0.39291, 0.298636, 0.231609, 0.183134, 0.147745, 0.121195, 0.101356, 0.086442, 0.074785, 0.064011, 0.056541, 0.050953, 0.046365, 0.043192, 0.039852, 0.037592, 0.035852, 0.03459, 0.033912, 0.033056, 0.031835, 0.031352, 0.030714, 0.030301]}, 'eval': {'mlogloss': [0.765776, 0.565862, 0.441114, 0.357715, 0.303035, 0.269981, 0.244587, 0.228647, 0.21806, 0.209126, 0.206222, 0.209763, 0.204977, 0.203838, 0.199503, 0.198099, 0.195911, 0.197114, 0.203681, 0.202509, 0.204498, 0.204586, 0.210023, 0.212193, 0.212236, 0.214694]}}\n"
     ]
    }
   ],
   "source": [
    "print(evals_result)"
   ]
  },
  {
   "cell_type": "code",
   "execution_count": 18,
   "metadata": {},
   "outputs": [
    {
     "data": {
      "image/png": "[encoded data removed]",
      "text/plain": [
       "<Figure size 432x288 with 1 Axes>"
      ]
     },
     "metadata": {
      "needs_background": "light"
     },
     "output_type": "display_data"
    }
   ],
   "source": [
    "train_metric = evals_result['train']['mlogloss']\n",
    "plt.plot(train_metric, label='train logloss')\n",
    "eval_metric = evals_result['eval']['mlogloss']\n",
    "plt.plot(eval_metric, label='eval logloss')\n",
    "\n",
    "plt.grid()\n",
    "plt.legend()\n",
    "plt.xlabel('rounds')\n",
    "plt.ylabel('logloss')\n",
    "plt.show()"
   ]
  },
  {
   "cell_type": "code",
   "execution_count": null,
   "metadata": {},
   "outputs": [],
   "source": []
  }
 ],
 "metadata": {
  "kernelspec": {
   "display_name": "Python 3",
   "language": "python",
   "name": "python3"
  },
  "language_info": {
   "codemirror_mode": {
    "name": "ipython",
    "version": 3
   },
   "file_extension": ".py",
   "mimetype": "text/x-python",
   "name": "python",
   "nbconvert_exporter": "python",
   "pygments_lexer": "ipython3",
   "version": "3.7.3"
  }
 },
 "nbformat": 4,
 "nbformat_minor": 4
}
