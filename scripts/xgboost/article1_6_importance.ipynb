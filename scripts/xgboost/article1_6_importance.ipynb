{
 "cells": [
  {
   "cell_type": "markdown",
   "metadata": {},
   "source": [
    "- Reference\n",
    "  - https://blog.amedama.jp/entry/2019/01/29/235642\n",
    "  - 特徴量の重要度を可視化"
   ]
  },
  {
   "cell_type": "code",
   "execution_count": 1,
   "metadata": {},
   "outputs": [],
   "source": [
    "import numpy as np\n",
    "from sklearn import datasets\n",
    "from sklearn.model_selection import train_test_split\n",
    "#from sklearn.metrics import accuracy_score\n",
    "from matplotlib import pyplot as plt"
   ]
  },
  {
   "cell_type": "code",
   "execution_count": 2,
   "metadata": {},
   "outputs": [],
   "source": [
    "import xgboost as xgb"
   ]
  },
  {
   "cell_type": "code",
   "execution_count": 3,
   "metadata": {},
   "outputs": [],
   "source": [
    "#dataset = datasets.load_breast_cancer()\n",
    "dataset = datasets.load_iris()\n",
    "X, y = dataset.data, dataset.target\n",
    "\n",
    "X_train, X_test, y_train, y_test = train_test_split(\n",
    "    X, y, test_size=0.3, shuffle=True, random_state=42, stratify=y)"
   ]
  },
  {
   "cell_type": "code",
   "execution_count": 4,
   "metadata": {},
   "outputs": [],
   "source": [
    "# dtrain = xgb.DMatrix(X_train, label=y_train)\n",
    "# dtest = xgb.DMatrix(X_test, label=y_test)\n",
    "dtrain = xgb.DMatrix(\n",
    "    X_train, label=y_train, feature_names=dataset.feature_names)\n",
    "dtest = xgb.DMatrix(\n",
    "    X_test, label=y_test, feature_names=dataset.feature_names)"
   ]
  },
  {
   "cell_type": "code",
   "execution_count": 5,
   "metadata": {},
   "outputs": [
    {
     "name": "stdout",
     "output_type": "stream",
     "text": [
      "[0]\ttrain-mlogloss:0.74229\teval-mlogloss:0.76578\n",
      "Multiple eval metrics have been passed: 'eval-mlogloss' will be used for early stopping.\n",
      "\n",
      "Will train until eval-mlogloss hasn't improved in 10 rounds.\n",
      "[1]\ttrain-mlogloss:0.53065\teval-mlogloss:0.56586\n",
      "[2]\ttrain-mlogloss:0.39291\teval-mlogloss:0.44111\n",
      "[3]\ttrain-mlogloss:0.29864\teval-mlogloss:0.35772\n",
      "[4]\ttrain-mlogloss:0.23161\teval-mlogloss:0.30303\n",
      "[5]\ttrain-mlogloss:0.18313\teval-mlogloss:0.26998\n",
      "[6]\ttrain-mlogloss:0.14774\teval-mlogloss:0.24459\n",
      "[7]\ttrain-mlogloss:0.12119\teval-mlogloss:0.22865\n",
      "[8]\ttrain-mlogloss:0.10136\teval-mlogloss:0.21806\n",
      "[9]\ttrain-mlogloss:0.08644\teval-mlogloss:0.20913\n",
      "[10]\ttrain-mlogloss:0.07479\teval-mlogloss:0.20622\n",
      "[11]\ttrain-mlogloss:0.06401\teval-mlogloss:0.20976\n",
      "[12]\ttrain-mlogloss:0.05654\teval-mlogloss:0.20498\n",
      "[13]\ttrain-mlogloss:0.05095\teval-mlogloss:0.20384\n",
      "[14]\ttrain-mlogloss:0.04637\teval-mlogloss:0.19950\n",
      "[15]\ttrain-mlogloss:0.04319\teval-mlogloss:0.19810\n",
      "[16]\ttrain-mlogloss:0.03985\teval-mlogloss:0.19591\n",
      "[17]\ttrain-mlogloss:0.03759\teval-mlogloss:0.19711\n",
      "[18]\ttrain-mlogloss:0.03585\teval-mlogloss:0.20368\n",
      "[19]\ttrain-mlogloss:0.03459\teval-mlogloss:0.20251\n",
      "[20]\ttrain-mlogloss:0.03391\teval-mlogloss:0.20450\n",
      "[21]\ttrain-mlogloss:0.03306\teval-mlogloss:0.20459\n",
      "[22]\ttrain-mlogloss:0.03184\teval-mlogloss:0.21002\n",
      "[23]\ttrain-mlogloss:0.03135\teval-mlogloss:0.21219\n",
      "[24]\ttrain-mlogloss:0.03071\teval-mlogloss:0.21224\n",
      "[25]\ttrain-mlogloss:0.03030\teval-mlogloss:0.21469\n",
      "[26]\ttrain-mlogloss:0.02980\teval-mlogloss:0.21508\n",
      "Stopping. Best iteration:\n",
      "[16]\ttrain-mlogloss:0.03985\teval-mlogloss:0.19591\n",
      "\n"
     ]
    }
   ],
   "source": [
    "xgb_params = {\n",
    "#     'objective': 'binary:logistic',\n",
    "#     'eval_metric': 'logloss',\n",
    "    'objective': 'multi:softmax',\n",
    "    'num_class': 3,\n",
    "    'eval_metric': 'mlogloss',\n",
    "}\n",
    "\n",
    "evals = [(dtrain, 'train'), (dtest, 'eval')]\n",
    "evals_result = {}\n",
    "\n",
    "bst = xgb.train(xgb_params,\n",
    "                dtrain,\n",
    "                num_boost_round=1000,\n",
    "                early_stopping_rounds=10,\n",
    "                evals=evals,\n",
    "                evals_result=evals_result)"
   ]
  },
  {
   "cell_type": "code",
   "execution_count": 6,
   "metadata": {},
   "outputs": [
    {
     "data": {
      "image/png": "[encoded data removed]",
      "text/plain": [
       "<Figure size 864x288 with 1 Axes>"
      ]
     },
     "metadata": {
      "needs_background": "light"
     },
     "output_type": "display_data"
    }
   ],
   "source": [
    "_, ax = plt.subplots(figsize=(12, 4))\n",
    "\n",
    "xgb.plot_importance(bst,\n",
    "                    ax=ax,\n",
    "                    importance_type='gain',\n",
    "                    show_values=False)\n",
    "\n",
    "plt.show()"
   ]
  },
  {
   "cell_type": "code",
   "execution_count": null,
   "metadata": {},
   "outputs": [],
   "source": []
  }
 ],
 "metadata": {
  "kernelspec": {
   "display_name": "Python 3",
   "language": "python",
   "name": "python3"
  },
  "language_info": {
   "codemirror_mode": {
    "name": "ipython",
    "version": 3
   },
   "file_extension": ".py",
   "mimetype": "text/x-python",
   "name": "python",
   "nbconvert_exporter": "python",
   "pygments_lexer": "ipython3",
   "version": "3.7.3"
  }
 },
 "nbformat": 4,
 "nbformat_minor": 4
}
