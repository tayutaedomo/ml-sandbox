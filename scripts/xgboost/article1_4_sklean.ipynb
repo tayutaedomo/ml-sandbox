{
 "cells": [
  {
   "cell_type": "markdown",
   "metadata": {},
   "source": [
    "- Reference\n",
    "  - https://blog.amedama.jp/entry/2019/01/29/235642\n",
    "  - scikit-learn インターフェース"
   ]
  },
  {
   "cell_type": "code",
   "execution_count": 1,
   "metadata": {},
   "outputs": [],
   "source": [
    "import numpy as np\n",
    "from sklearn import datasets\n",
    "from sklearn.model_selection import train_test_split\n",
    "from sklearn.metrics import accuracy_score\n",
    "from matplotlib import pyplot as plt"
   ]
  },
  {
   "cell_type": "code",
   "execution_count": 2,
   "metadata": {},
   "outputs": [],
   "source": [
    "import xgboost as xgb"
   ]
  },
  {
   "cell_type": "code",
   "execution_count": 3,
   "metadata": {},
   "outputs": [],
   "source": [
    "dataset = datasets.load_breast_cancer()\n",
    "X, y = dataset.data, dataset.target\n",
    "\n",
    "X_train, X_test, y_train, y_test = train_test_split(\n",
    "    X, y, test_size=0.3, shuffle=True, random_state=42, stratify=y)"
   ]
  },
  {
   "cell_type": "code",
   "execution_count": 4,
   "metadata": {},
   "outputs": [],
   "source": [
    "#dtrain = xgb.DMatrix(X_train, label=y_train)\n",
    "#dtest = xgb.DMatrix(X_test, label=y_test)"
   ]
  },
  {
   "cell_type": "code",
   "execution_count": 4,
   "metadata": {},
   "outputs": [
    {
     "name": "stdout",
     "output_type": "stream",
     "text": [
      "[0]\tvalidation_0-logloss:0.46240\tvalidation_1-logloss:0.49290\n",
      "Multiple eval metrics have been passed: 'validation_1-logloss' will be used for early stopping.\n",
      "\n",
      "Will train until validation_1-logloss hasn't improved in 10 rounds.\n",
      "[1]\tvalidation_0-logloss:0.33344\tvalidation_1-logloss:0.37602\n",
      "[2]\tvalidation_0-logloss:0.24974\tvalidation_1-logloss:0.30837\n",
      "[3]\tvalidation_0-logloss:0.19168\tvalidation_1-logloss:0.26162\n",
      "[4]\tvalidation_0-logloss:0.15087\tvalidation_1-logloss:0.22837\n",
      "[5]\tvalidation_0-logloss:0.12011\tvalidation_1-logloss:0.20208\n",
      "[6]\tvalidation_0-logloss:0.09615\tvalidation_1-logloss:0.17614\n",
      "[7]\tvalidation_0-logloss:0.07942\tvalidation_1-logloss:0.16177\n",
      "[8]\tvalidation_0-logloss:0.06669\tvalidation_1-logloss:0.15044\n",
      "[9]\tvalidation_0-logloss:0.05665\tvalidation_1-logloss:0.14649\n",
      "[10]\tvalidation_0-logloss:0.04829\tvalidation_1-logloss:0.13628\n",
      "[11]\tvalidation_0-logloss:0.04239\tvalidation_1-logloss:0.13244\n",
      "[12]\tvalidation_0-logloss:0.03736\tvalidation_1-logloss:0.12173\n",
      "[13]\tvalidation_0-logloss:0.03319\tvalidation_1-logloss:0.11718\n",
      "[14]\tvalidation_0-logloss:0.02926\tvalidation_1-logloss:0.11260\n",
      "[15]\tvalidation_0-logloss:0.02656\tvalidation_1-logloss:0.11169\n",
      "[16]\tvalidation_0-logloss:0.02429\tvalidation_1-logloss:0.11039\n",
      "[17]\tvalidation_0-logloss:0.02263\tvalidation_1-logloss:0.11370\n",
      "[18]\tvalidation_0-logloss:0.02082\tvalidation_1-logloss:0.11181\n",
      "[19]\tvalidation_0-logloss:0.01902\tvalidation_1-logloss:0.11299\n",
      "[20]\tvalidation_0-logloss:0.01756\tvalidation_1-logloss:0.11146\n",
      "[21]\tvalidation_0-logloss:0.01647\tvalidation_1-logloss:0.11087\n",
      "[22]\tvalidation_0-logloss:0.01550\tvalidation_1-logloss:0.11167\n",
      "[23]\tvalidation_0-logloss:0.01467\tvalidation_1-logloss:0.11473\n",
      "[24]\tvalidation_0-logloss:0.01413\tvalidation_1-logloss:0.11209\n",
      "[25]\tvalidation_0-logloss:0.01367\tvalidation_1-logloss:0.11072\n",
      "[26]\tvalidation_0-logloss:0.01316\tvalidation_1-logloss:0.10900\n",
      "[27]\tvalidation_0-logloss:0.01274\tvalidation_1-logloss:0.10877\n",
      "[28]\tvalidation_0-logloss:0.01237\tvalidation_1-logloss:0.10750\n",
      "[29]\tvalidation_0-logloss:0.01176\tvalidation_1-logloss:0.10875\n",
      "[30]\tvalidation_0-logloss:0.01142\tvalidation_1-logloss:0.10789\n",
      "[31]\tvalidation_0-logloss:0.01091\tvalidation_1-logloss:0.10599\n",
      "[32]\tvalidation_0-logloss:0.01066\tvalidation_1-logloss:0.10486\n",
      "[33]\tvalidation_0-logloss:0.01039\tvalidation_1-logloss:0.10478\n",
      "[34]\tvalidation_0-logloss:0.01015\tvalidation_1-logloss:0.10413\n",
      "[35]\tvalidation_0-logloss:0.00991\tvalidation_1-logloss:0.10258\n",
      "[36]\tvalidation_0-logloss:0.00973\tvalidation_1-logloss:0.10274\n",
      "[37]\tvalidation_0-logloss:0.00949\tvalidation_1-logloss:0.10078\n",
      "[38]\tvalidation_0-logloss:0.00927\tvalidation_1-logloss:0.10066\n",
      "[39]\tvalidation_0-logloss:0.00917\tvalidation_1-logloss:0.10043\n",
      "[40]\tvalidation_0-logloss:0.00908\tvalidation_1-logloss:0.10014\n",
      "[41]\tvalidation_0-logloss:0.00898\tvalidation_1-logloss:0.10048\n",
      "[42]\tvalidation_0-logloss:0.00874\tvalidation_1-logloss:0.10047\n",
      "[43]\tvalidation_0-logloss:0.00865\tvalidation_1-logloss:0.10009\n",
      "[44]\tvalidation_0-logloss:0.00852\tvalidation_1-logloss:0.09951\n",
      "[45]\tvalidation_0-logloss:0.00844\tvalidation_1-logloss:0.09924\n",
      "[46]\tvalidation_0-logloss:0.00837\tvalidation_1-logloss:0.09875\n",
      "[47]\tvalidation_0-logloss:0.00829\tvalidation_1-logloss:0.09814\n",
      "[48]\tvalidation_0-logloss:0.00822\tvalidation_1-logloss:0.09779\n",
      "[49]\tvalidation_0-logloss:0.00815\tvalidation_1-logloss:0.09819\n",
      "[50]\tvalidation_0-logloss:0.00808\tvalidation_1-logloss:0.09797\n",
      "[51]\tvalidation_0-logloss:0.00801\tvalidation_1-logloss:0.09766\n",
      "[52]\tvalidation_0-logloss:0.00794\tvalidation_1-logloss:0.09735\n",
      "[53]\tvalidation_0-logloss:0.00789\tvalidation_1-logloss:0.09706\n",
      "[54]\tvalidation_0-logloss:0.00783\tvalidation_1-logloss:0.09612\n",
      "[55]\tvalidation_0-logloss:0.00776\tvalidation_1-logloss:0.09651\n",
      "[56]\tvalidation_0-logloss:0.00771\tvalidation_1-logloss:0.09596\n",
      "[57]\tvalidation_0-logloss:0.00765\tvalidation_1-logloss:0.09568\n",
      "[58]\tvalidation_0-logloss:0.00760\tvalidation_1-logloss:0.09625\n",
      "[59]\tvalidation_0-logloss:0.00754\tvalidation_1-logloss:0.09604\n",
      "[60]\tvalidation_0-logloss:0.00749\tvalidation_1-logloss:0.09493\n",
      "[61]\tvalidation_0-logloss:0.00744\tvalidation_1-logloss:0.09455\n",
      "[62]\tvalidation_0-logloss:0.00739\tvalidation_1-logloss:0.09430\n",
      "[63]\tvalidation_0-logloss:0.00734\tvalidation_1-logloss:0.09454\n",
      "[64]\tvalidation_0-logloss:0.00730\tvalidation_1-logloss:0.09491\n",
      "[65]\tvalidation_0-logloss:0.00725\tvalidation_1-logloss:0.09475\n",
      "[66]\tvalidation_0-logloss:0.00721\tvalidation_1-logloss:0.09512\n",
      "[67]\tvalidation_0-logloss:0.00716\tvalidation_1-logloss:0.09464\n",
      "[68]\tvalidation_0-logloss:0.00712\tvalidation_1-logloss:0.09456\n",
      "[69]\tvalidation_0-logloss:0.00708\tvalidation_1-logloss:0.09352\n",
      "[70]\tvalidation_0-logloss:0.00704\tvalidation_1-logloss:0.09323\n",
      "[71]\tvalidation_0-logloss:0.00699\tvalidation_1-logloss:0.09361\n",
      "[72]\tvalidation_0-logloss:0.00696\tvalidation_1-logloss:0.09319\n",
      "[73]\tvalidation_0-logloss:0.00692\tvalidation_1-logloss:0.09269\n",
      "[74]\tvalidation_0-logloss:0.00688\tvalidation_1-logloss:0.09289\n",
      "[75]\tvalidation_0-logloss:0.00685\tvalidation_1-logloss:0.09317\n",
      "[76]\tvalidation_0-logloss:0.00681\tvalidation_1-logloss:0.09353\n",
      "[77]\tvalidation_0-logloss:0.00677\tvalidation_1-logloss:0.09327\n",
      "[78]\tvalidation_0-logloss:0.00674\tvalidation_1-logloss:0.09362\n",
      "[79]\tvalidation_0-logloss:0.00671\tvalidation_1-logloss:0.09322\n",
      "[80]\tvalidation_0-logloss:0.00668\tvalidation_1-logloss:0.09276\n",
      "[81]\tvalidation_0-logloss:0.00665\tvalidation_1-logloss:0.09254\n",
      "[82]\tvalidation_0-logloss:0.00662\tvalidation_1-logloss:0.09291\n",
      "[83]\tvalidation_0-logloss:0.00659\tvalidation_1-logloss:0.09319\n",
      "[84]\tvalidation_0-logloss:0.00656\tvalidation_1-logloss:0.09337\n",
      "[85]\tvalidation_0-logloss:0.00653\tvalidation_1-logloss:0.09292\n",
      "[86]\tvalidation_0-logloss:0.00650\tvalidation_1-logloss:0.09272\n",
      "[87]\tvalidation_0-logloss:0.00647\tvalidation_1-logloss:0.09273\n",
      "[88]\tvalidation_0-logloss:0.00645\tvalidation_1-logloss:0.09292\n",
      "[89]\tvalidation_0-logloss:0.00642\tvalidation_1-logloss:0.09286\n",
      "[90]\tvalidation_0-logloss:0.00639\tvalidation_1-logloss:0.09243\n",
      "[91]\tvalidation_0-logloss:0.00637\tvalidation_1-logloss:0.09226\n",
      "[92]\tvalidation_0-logloss:0.00634\tvalidation_1-logloss:0.09261\n",
      "[93]\tvalidation_0-logloss:0.00632\tvalidation_1-logloss:0.09284\n",
      "[94]\tvalidation_0-logloss:0.00630\tvalidation_1-logloss:0.09300\n",
      "[95]\tvalidation_0-logloss:0.00628\tvalidation_1-logloss:0.09285\n",
      "[96]\tvalidation_0-logloss:0.00625\tvalidation_1-logloss:0.09245\n",
      "[97]\tvalidation_0-logloss:0.00623\tvalidation_1-logloss:0.09269\n",
      "[98]\tvalidation_0-logloss:0.00621\tvalidation_1-logloss:0.09269\n",
      "[99]\tvalidation_0-logloss:0.00618\tvalidation_1-logloss:0.09288\n",
      "[100]\tvalidation_0-logloss:0.00616\tvalidation_1-logloss:0.09275\n",
      "[101]\tvalidation_0-logloss:0.00614\tvalidation_1-logloss:0.09309\n",
      "Stopping. Best iteration:\n",
      "[91]\tvalidation_0-logloss:0.00637\tvalidation_1-logloss:0.09226\n",
      "\n"
     ]
    },
    {
     "data": {
      "text/plain": [
       "XGBClassifier(base_score=0.5, booster='gbtree', colsample_bylevel=1,\n",
       "              colsample_bynode=1, colsample_bytree=1, gamma=0, gpu_id=-1,\n",
       "              importance_type='gain', interaction_constraints='',\n",
       "              learning_rate=0.300000012, max_delta_step=0, max_depth=6,\n",
       "              min_child_weight=1, missing=nan, monotone_constraints='()',\n",
       "              n_estimators=1000, n_jobs=0, num_parallel_tree=1, random_state=0,\n",
       "              reg_alpha=0, reg_lambda=1, scale_pos_weight=1, subsample=1,\n",
       "              tree_method='exact', validate_parameters=1, verbosity=None)"
      ]
     },
     "execution_count": 4,
     "metadata": {},
     "output_type": "execute_result"
    }
   ],
   "source": [
    "# xgb_params = {\n",
    "#     'objective': 'binary:logistic',\n",
    "#     'eval_metric': 'logloss',\n",
    "# }\n",
    "\n",
    "# evals = [(dtrain, 'train'), (dtest, 'eval')]\n",
    "# evals_result = {}\n",
    "\n",
    "# bst = xgb.train(xgb_params,\n",
    "#                 dtrain,\n",
    "#                 num_boost_round=1000,\n",
    "#                 early_stopping_rounds=10,\n",
    "#                 evals=evals,\n",
    "#                 evals_result=evals_result)\n",
    "\n",
    "clf = xgb.XGBClassifier(objective='binary:logistic',\n",
    "                        n_estimators=1000)\n",
    "\n",
    "evals_result = {}\n",
    "\n",
    "clf.fit(X_train,\n",
    "        y_train,\n",
    "        eval_metric='logloss',\n",
    "        eval_set=[\n",
    "            (X_train, y_train),\n",
    "            (X_test, y_test),\n",
    "        ],\n",
    "        early_stopping_rounds=10,\n",
    "        callbacks=[\n",
    "            xgb.callback.record_evaluation(evals_result)\n",
    "        ],)"
   ]
  },
  {
   "cell_type": "code",
   "execution_count": 5,
   "metadata": {},
   "outputs": [
    {
     "name": "stdout",
     "output_type": "stream",
     "text": [
      "Accuracy: 0.9649122807017544\n"
     ]
    }
   ],
   "source": [
    "# y_pred_proba = bst.predict(dtest)\n",
    "# y_pred = np.where(y_pred_proba > 0.5, 1, 0)\n",
    "\n",
    "y_pred = clf.predict(X_test)\n",
    "acc = accuracy_score(y_test, y_pred)\n",
    "print('Accuracy:', acc)"
   ]
  },
  {
   "cell_type": "code",
   "execution_count": 8,
   "metadata": {},
   "outputs": [
    {
     "name": "stdout",
     "output_type": "stream",
     "text": [
      "[0.462396, 0.33344, 0.249744]\n",
      "[0.492899, 0.376018, 0.308367]\n"
     ]
    }
   ],
   "source": [
    "print(evals_result['validation_0']['logloss'][:3])\n",
    "print(evals_result['validation_1']['logloss'][:3])"
   ]
  },
  {
   "cell_type": "code",
   "execution_count": 9,
   "metadata": {},
   "outputs": [
    {
     "data": {
      "image/png": "[encoded data removed]",
      "text/plain": [
       "<Figure size 432x288 with 1 Axes>"
      ]
     },
     "metadata": {
      "needs_background": "light"
     },
     "output_type": "display_data"
    }
   ],
   "source": [
    "# train_metric = evals_result['train']['logloss']\n",
    "# plt.plot(train_metric, label='train logloss')\n",
    "# eval_metric = evals_result['eval']['logloss']\n",
    "# plt.plot(eval_metric, label='eval logloss')\n",
    "\n",
    "train_metric = evals_result['validation_0']['logloss']\n",
    "plt.plot(train_metric, label='train logloss')\n",
    "\n",
    "eval_metric = evals_result['validation_1']['logloss']\n",
    "plt.plot(eval_metric, label='eval logloss')\n",
    "    \n",
    "plt.grid()\n",
    "plt.legend()\n",
    "plt.xlabel('rounds')\n",
    "plt.ylabel('logloss')\n",
    "plt.show()"
   ]
  },
  {
   "cell_type": "code",
   "execution_count": null,
   "metadata": {},
   "outputs": [],
   "source": []
  }
 ],
 "metadata": {
  "kernelspec": {
   "display_name": "Python 3",
   "language": "python",
   "name": "python3"
  },
  "language_info": {
   "codemirror_mode": {
    "name": "ipython",
    "version": 3
   },
   "file_extension": ".py",
   "mimetype": "text/x-python",
   "name": "python",
   "nbconvert_exporter": "python",
   "pygments_lexer": "ipython3",
   "version": "3.7.3"
  }
 },
 "nbformat": 4,
 "nbformat_minor": 4
}
